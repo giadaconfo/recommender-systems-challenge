{
 "cells": [
  {
   "cell_type": "code",
   "execution_count": 1,
   "metadata": {
    "collapsed": false
   },
   "outputs": [],
   "source": [
    "import pandas as pd\n",
    "import numpy as np\n",
    "import os.path\n",
    "import recsys as rs\n",
    "import notipy\n",
    "import math\n",
    "import sys\n",
    "import TopSimilarRecommender as TSR\n",
    "import ItemBasedRecommender as IBR\n",
    "import UserBasedRecommender as UBR\n",
    "import random\n",
    "from scipy import sparse as sps\n",
    "import importlib"
   ]
  },
  {
   "cell_type": "code",
   "execution_count": 2,
   "metadata": {
    "collapsed": false
   },
   "outputs": [],
   "source": [
    "train = pd.read_csv('Data/train_final.csv','\\t')\n",
    "tracks = pd.read_csv('Data/tracks_final.csv','\\t')\n",
    "pl_info = pd.read_csv('Data/playlists_final.csv','\\t')\n",
    "tgt_playlists = pd.read_csv('Data/target_playlists.csv','\\t')\n",
    "tgt_tracks = pd.read_csv('Data/target_tracks.csv','\\t')"
   ]
  },
  {
   "cell_type": "code",
   "execution_count": 3,
   "metadata": {
    "collapsed": false
   },
   "outputs": [
    {
     "data": {
      "text/plain": [
       "(9129, 1)"
      ]
     },
     "execution_count": 3,
     "metadata": {},
     "output_type": "execute_result"
    }
   ],
   "source": [
    "rs = importlib.reload(rs)\n",
    "train, test, tgt_tracks, tgt_playlists = rs.train_test_split_interface(train, 10, 20, 5, 2517)\n",
    "tgt_playlists.shape"
   ]
  },
  {
   "cell_type": "code",
   "execution_count": null,
   "metadata": {
    "collapsed": false
   },
   "outputs": [],
   "source": [
    "rs = importlib.reload(rs)\n",
    "tsr= TSR.TopSimilarRecommender(attributes=['artist_id', 'album'],idf=True, n_min_attr=90, n_el_sim=120)\n",
    "tsr.fit(tracks,tgt_tracks,multiprocessing=True)#, saved_similarity='BuiltStructures/tsr_sim_65el_idfTrue_artist_album_playcount.npz')\n",
    "print('Model fitted!')"
   ]
  },
  {
   "cell_type": "code",
   "execution_count": null,
   "metadata": {
    "collapsed": false
   },
   "outputs": [],
   "source": [
    "rs = importlib.reload(rs)\n",
    "ibr = IBR.ItemBasedRecommender(idf=True, shrinkage=10,n_el_sim=65)\n",
    "ibr.fit(tracks,train,tgt_tracks, multiprocessing=True)#, saved_similarity='BuiltStructures/ibr_sim_65el_h10_idfTrue.npz')\n",
    "print('Model fitted!')"
   ]
  },
  {
   "cell_type": "code",
   "execution_count": null,
   "metadata": {
    "collapsed": false
   },
   "outputs": [],
   "source": [
    "# ibr 60 el idf false\n",
    "rs = importlib.reload(rs)\n",
    "tsr_tag=IBR.ItemBasedRecommender(idf=True, shrinkage=10,n_el_sim=140)\n",
    "tsr_tag.fit(tracks,train,tgt_tracks, multiprocessing=True)#, save_sim=True)\n",
    "print('Model fitted!')"
   ]
  },
  {
   "cell_type": "code",
   "execution_count": null,
   "metadata": {
    "collapsed": false
   },
   "outputs": [],
   "source": [
    "rs = importlib.reload(rs)\n",
    "UBR = importlib.reload(UBR)\n",
    "ubr = UBR.UserBasedRecommender(measure='imp_cos', shrinkage=10,n_el_sim =10)\n",
    "ubr.fit(tracks,train,tgt_playlists,multiprocessing=True)#, saved_similarity='BuiltStructures/ubr_sim_65el_impcos.npz')\n",
    "print('Model fitted!')"
   ]
  },
  {
   "cell_type": "code",
   "execution_count": null,
   "metadata": {
    "collapsed": false
   },
   "outputs": [],
   "source": [
    "rs = importlib.reload(rs)\n",
    "_, _, IX_tgt_playlists, _ = rs.create_sparse_indexes(playlists=tgt_playlists)\n",
    "_, _, IX_playlists, _ = rs.create_sparse_indexes(tracks_info=tracks, playlists=train, tracks_reduced=tracks)\n",
    "URM_UBR =rs.create_UBR_URM(IX_playlists, tsr.IX_tgt_items, train)\n",
    "URM = rs.create_tgt_URM(IX_tgt_playlists, tsr.IX_items, train)\n",
    "print('URM built')"
   ]
  },
  {
   "cell_type": "code",
   "execution_count": null,
   "metadata": {
    "collapsed": false
   },
   "outputs": [],
   "source": [
    "tsr.S =tsr.S.tocsr()\n",
    "tsr_tag.S =tsr_tag.S.tocsr()\n",
    "ibr.S =ibr.S.tocsr()\n",
    "ubr.S =ubr.S.T.tocsr()\n",
    "URM = URM.tocsr()\n",
    "URM_UBR= URM_UBR.tocsr()"
   ]
  },
  {
   "cell_type": "code",
   "execution_count": null,
   "metadata": {
    "collapsed": true
   },
   "outputs": [],
   "source": [
    "tsr_tag.S =tsr_tag.S.tocsr()"
   ]
  },
  {
   "cell_type": "code",
   "execution_count": null,
   "metadata": {
    "collapsed": true
   },
   "outputs": [],
   "source": [
    "div_t = tsr.S.sum(axis=0)\n",
    "div_tt = tsr_tag.S.sum(axis=0)\n",
    "div_i = ibr.S.sum(axis=0)"
   ]
  },
  {
   "cell_type": "code",
   "execution_count": null,
   "metadata": {
    "collapsed": false
   },
   "outputs": [],
   "source": [
    "rs = importlib.reload(rs)\n",
    "recommendetions = np.array([])\n",
    "H_t=60\n",
    "H_i=200\n",
    "H_tt=60\n",
    "ubr.S = ubr.S.tocsr()\n",
    "for p in IX_tgt_playlists.values:\n",
    "    avg_sims_t = URM[p,:].dot(tsr.S).toarray().ravel()\n",
    "    avg_sims_t = np.array(avg_sims_t/(div_t+H_t+1e-6)).ravel()\n",
    "    avg_sims_i = URM[p,:].dot(ibr.S).toarray().ravel()\n",
    "    avg_sims_i = np.array(avg_sims_i/(div_i+H_i+1e-6)).ravel()\n",
    "    avg_sims_u = ubr.S[p,:].dot(URM_UBR).toarray().ravel()\n",
    "    avg_sims_tt = URM[p,:].dot(tsr_tag.S).toarray().ravel()\n",
    "    avg_sims_tt = np.array(avg_sims_tt/(div_tt+H_tt+1e-6)).ravel()\n",
    "    avg_sims= np.array(avg_sims_t*0.4+avg_sims_i*0+avg_sims_u*0.1+avg_sims_tt*0.5).ravel()\n",
    "    top = rs.top5_outside_playlist(avg_sims, p, train, IX_tgt_playlists, tsr.IX_tgt_items, False, False)\n",
    "    recommendetions = np.append(recommendetions, rs.sub_format(top))\n",
    "    if (p % 1000 == 0):\n",
    "        print('Recommended ' + str(p) + ' users over ' + str(IX_tgt_playlists.values.shape[0]))\n",
    "rec_tsr =  pd.DataFrame({'playlist_id' : IX_tgt_playlists.index.values, 'track_ids' : recommendetions})"
   ]
  },
  {
   "cell_type": "code",
   "execution_count": 144,
   "metadata": {
    "collapsed": false
   },
   "outputs": [
    {
     "name": "stdout",
     "output_type": "stream",
     "text": [
      "Evaluation completed!\n"
     ]
    }
   ],
   "source": [
    "map_eval = rs.evaluate(rec_tsr, test, 'MAP')\n",
    "print('Evaluation completed!')"
   ]
  },
  {
   "cell_type": "code",
   "execution_count": 145,
   "metadata": {
    "collapsed": false
   },
   "outputs": [
    {
     "data": {
      "text/plain": [
       "0.08937379048453747"
      ]
     },
     "execution_count": 145,
     "metadata": {},
     "output_type": "execute_result"
    }
   ],
   "source": [
    "map_eval"
   ]
  },
  {
   "cell_type": "markdown",
   "metadata": {
    "collapsed": false
   },
   "source": [
    "#### rec_tsr.to_csv('Submissions/ensemble_submission_new_matrices_tag_05000104_ibr_65el_idfFalse.csv', index=False)\n",
    "print('Results saved as csv!')"
   ]
  },
  {
   "cell_type": "code",
   "execution_count": null,
   "metadata": {
    "collapsed": true
   },
   "outputs": [],
   "source": [
    "#idf false 05000104 0.08827290320225022\n",
    "#idf true 05040100 0.08737247599226008\n",
    "#-----------------\n",
    "#change nel: 40 0.08765290101142988\n",
    "#80 0.0884448826085379\n",
    "#90 0.08853142001679737\n",
    "#100 0.08868039580823127\n",
    "#120 0.08873516631978788\n",
    "#140 0.08892321174279862 \n",
    "#160 0.08888195129075942\n",
    "#150 0.08878409464344503\n",
    "#130 0.08887610910286008\n",
    "#IDF TRUE\n",
    "#140 0.0896220834702607 <-- BEST 05000104\n",
    "#120 0.08958447438565847\n",
    "#150 0.08959725417168833\n",
    "#Change alphas\n",
    "#04000105 0.08972213093803748\n",
    "#03000106 0.08913060941322627\n",
    "#---------------------Change UBR\n",
    "# 60 el 0.08780917953773815\n",
    "# 40 el 0.08912951400299535\n",
    "# 20 0.08957826706101557\n",
    "# 10 0.08989301493409409 <-- BEST\n",
    "#without ubr 0.08141161865118587\n",
    "#ubr 0.2 0.08937379048453747"
   ]
  }
 ],
 "metadata": {
  "anaconda-cloud": {},
  "kernelspec": {
   "display_name": "Python [default]",
   "language": "python",
   "name": "python3"
  },
  "language_info": {
   "codemirror_mode": {
    "name": "ipython",
    "version": 3
   },
   "file_extension": ".py",
   "mimetype": "text/x-python",
   "name": "python",
   "nbconvert_exporter": "python",
   "pygments_lexer": "ipython3",
   "version": "3.5.2"
  }
 },
 "nbformat": 4,
 "nbformat_minor": 1
}
