{
 "cells": [
  {
   "cell_type": "code",
   "execution_count": 1,
   "metadata": {
    "collapsed": false
   },
   "outputs": [
    {
     "ename": "SyntaxError",
     "evalue": "non-default argument follows default argument (TopSimilarRecommender.py, line 24)",
     "output_type": "error",
     "traceback": [
      "\u001b[0;36m  File \u001b[0;32m\"/Users/LucaButera/git/rschallenge/TopSimilarRecommender.py\"\u001b[0;36m, line \u001b[0;32m24\u001b[0m\n\u001b[0;31m    def fit(tracks_info, tgt_tracks=None, attributes, n_min_attr=2, measure='dot', shrinkage=0, n_el_sim=20):\u001b[0m\n\u001b[0m           ^\u001b[0m\n\u001b[0;31mSyntaxError\u001b[0m\u001b[0;31m:\u001b[0m non-default argument follows default argument\n"
     ]
    }
   ],
   "source": [
    "import pandas as pd\n",
    "import recsys as rs\n",
    "import json\n",
    "import notipy\n",
    "import TopSimilarRecommender as TSR"
   ]
  },
  {
   "cell_type": "code",
   "execution_count": 1,
   "metadata": {
    "collapsed": false
   },
   "outputs": [],
   "source": [
    "train = pd.read_csv('Data/train_final.csv','\\t')\n",
    "tr_info = pd.read_csv('Data/tracks_final.csv','\\t')\n",
    "tgt_pl = pd.read_csv('Data/target_playlists.csv','\\t')\n",
    "tgt_tr = pd.read_csv('Data/target_tracks.csv','\\t')"
   ]
  },
  {
   "cell_type": "code",
   "execution_count": null,
   "metadata": {
    "collapsed": true
   },
   "outputs": [],
   "source": [
    "fit_dict = {'tracks_info' : tr_info,\n",
    "            'attributes' : ['artist', 'album', 'tags'],\n",
    "            'tgt_tracks' : tgt_tr,\n",
    "            'n_min_attr' : 2,\n",
    "            'measure' : 'dot',\n",
    "            'shrinkage' : 0,\n",
    "            'n_el_sim' : 20}\n",
    "\n",
    "recommend_dict = {'tgt_playlists' : tgt_pl,\n",
    "                  'train_playlists_tracks_pairs' : train, \n",
    "                  'normalize' : False}"
   ]
  },
  {
   "cell_type": "code",
   "execution_count": null,
   "metadata": {
    "collapsed": true
   },
   "outputs": [],
   "source": [
    "rec = TSR()\n",
    "rec.fit(**fit_dict)\n",
    "notipy.notify('Model fitted!')\n",
    "print('Model fitted!')"
   ]
  },
  {
   "cell_type": "code",
   "execution_count": null,
   "metadata": {
    "collapsed": true
   },
   "outputs": [],
   "source": [
    "recommendetions = rec.recommend(**recommend_dict)\n",
    "notipy.notify('Recommending completed!')\n",
    "print('Recommending completed!')"
   ]
  },
  {
   "cell_type": "code",
   "execution_count": null,
   "metadata": {
    "collapsed": true
   },
   "outputs": [],
   "source": [
    "#map_eval = rs.evaluate(recommendetions, test, 'MAP')\n",
    "#notipy.notify('Evaluation completed!')\n",
    "#print('Evaluation completed!')"
   ]
  },
  {
   "cell_type": "code",
   "execution_count": null,
   "metadata": {
    "collapsed": true
   },
   "outputs": [],
   "source": [
    "run_data = {'recommender_type' : rec.__class__.__name__,\n",
    "            'fit_parameters' : fit_dict,\n",
    "            'recommend_parameters' : recommend_dict,\n",
    "            'evaluation_result' : 0}"
   ]
  },
  {
   "cell_type": "code",
   "execution_count": null,
   "metadata": {
    "collapsed": true
   },
   "outputs": [],
   "source": [
    "with open('runs_data.json', 'w') as fp:\n",
    "    json.dump(run_data, fp)\n",
    "notipy.notify('Run data saved!')\n",
    "print('Run data saved!')"
   ]
  }
 ],
 "metadata": {
  "kernelspec": {
   "display_name": "Python 3",
   "language": "python",
   "name": "python3"
  },
  "language_info": {
   "codemirror_mode": {
    "name": "ipython",
    "version": 3
   },
   "file_extension": ".py",
   "mimetype": "text/x-python",
   "name": "python",
   "nbconvert_exporter": "python",
   "pygments_lexer": "ipython3",
   "version": "3.6.0"
  }
 },
 "nbformat": 4,
 "nbformat_minor": 2
}
