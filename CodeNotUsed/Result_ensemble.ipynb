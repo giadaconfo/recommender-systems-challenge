{
 "cells": [
  {
   "cell_type": "code",
   "execution_count": 29,
   "metadata": {
    "collapsed": false
   },
   "outputs": [],
   "source": [
    "import pandas as pd\n",
    "import numpy as np\n",
    "import os.path\n",
    "import recsys as rs\n",
    "import notipy\n",
    "import math\n",
    "import sys\n",
    "import TopSimilarRecommender as TSR\n",
    "import ItemBasedRecommender as IBR\n",
    "import UserBasedRecommender as UBR\n",
    "import random\n",
    "from scipy import sparse as sps\n",
    "import importlib"
   ]
  },
  {
   "cell_type": "code",
   "execution_count": 30,
   "metadata": {
    "collapsed": false
   },
   "outputs": [],
   "source": [
    "train = pd.read_csv('Data/train_final.csv','\\t')\n",
    "tracks = pd.read_csv('Data/tracks_final.csv','\\t')\n",
    "pl_info = pd.read_csv('Data/playlists_final.csv','\\t')\n",
    "tgt_playlists = pd.read_csv('Data/target_playlists.csv','\\t')\n",
    "tgt_tracks = pd.read_csv('Data/target_tracks.csv','\\t')"
   ]
  },
  {
   "cell_type": "code",
   "execution_count": 31,
   "metadata": {
    "collapsed": false
   },
   "outputs": [
    {
     "data": {
      "text/plain": [
       "(9129, 1)"
      ]
     },
     "execution_count": 31,
     "metadata": {},
     "output_type": "execute_result"
    }
   ],
   "source": [
    "train, test, tgt_tracks, tgt_playlists = rs.train_test_split_interface(train, 10, 20, 5, 2517)\n",
    "tgt_playlists.shape"
   ]
  },
  {
   "cell_type": "code",
   "execution_count": 32,
   "metadata": {
    "collapsed": false,
    "scrolled": true
   },
   "outputs": [
    {
     "name": "stdout",
     "output_type": "stream",
     "text": [
      "Calculated Indices\n",
      "Model URM built\n",
      "Model URM regularized with IDF!\n",
      "Computed 0 similarities over chunk of 25000 elements.\n",
      "Computed 0 similarities over chunk of 25000 elements.\n",
      "Computed 0 similarities over chunk of 25000 elements.\n",
      "Computed 0 similarities over chunk of 25000 elements.\n",
      "Computed 5000 similarities over chunk of 25000 elements.\n",
      "Computed 5000 similarities over chunk of 25000 elements.\n",
      "Computed 5000 similarities over chunk of 25000 elements.\n",
      "Computed 5000 similarities over chunk of 25000 elements.\n",
      "Computed 10000 similarities over chunk of 25000 elements.\n",
      "Computed 10000 similarities over chunk of 25000 elements.\n",
      "Computed 10000 similarities over chunk of 25000 elements.\n",
      "Computed 10000 similarities over chunk of 25000 elements.\n",
      "Computed 15000 similarities over chunk of 25000 elements.\n",
      "Computed 15000 similarities over chunk of 25000 elements.\n",
      "Computed 15000 similarities over chunk of 25000 elements.\n",
      "Computed 15000 similarities over chunk of 25000 elements.\n",
      "Computed 20000 similarities over chunk of 25000 elements.\n",
      "Computed 20000 similarities over chunk of 25000 elements.\n",
      "Computed 20000 similarities over chunk of 25000 elements.\n",
      "Computed 20000 similarities over chunk of 25000 elements.\n",
      "Model fitted!\n"
     ]
    }
   ],
   "source": [
    "rs = importlib.reload(rs)\n",
    "ibr = IBR.ItemBasedRecommender(idf=True, shrinkage=10,n_el_sim=15)\n",
    "ibr.fit(tracks,train,tgt_tracks, multiprocessing=True)#, saved_similarity='BuiltStructures/ibr_sim_65el_h10_idfTrue.npz')\n",
    "print('Model fitted!')"
   ]
  },
  {
   "cell_type": "code",
   "execution_count": 33,
   "metadata": {
    "collapsed": false
   },
   "outputs": [
    {
     "name": "stdout",
     "output_type": "stream",
     "text": [
      "Fixed dataset\n",
      "Calculated Indices\n",
      "ICM built\n",
      "ICM regularized with IDF!\n",
      "Computed 0 similarities over chunk of 25000 elements.\n",
      "Computed 0 similarities over chunk of 25000 elements.\n",
      "Computed 0 similarities over chunk of 25000 elements.\n",
      "Computed 0 similarities over chunk of 25000 elements.\n",
      "Computed 5000 similarities over chunk of 25000 elements.\n",
      "Computed 5000 similarities over chunk of 25000 elements.\n",
      "Computed 5000 similarities over chunk of 25000 elements.\n",
      "Computed 5000 similarities over chunk of 25000 elements.\n",
      "Computed 10000 similarities over chunk of 25000 elements.\n",
      "Computed 10000 similarities over chunk of 25000 elements.\n",
      "Computed 10000 similarities over chunk of 25000 elements.\n",
      "Computed 10000 similarities over chunk of 25000 elements.\n",
      "Computed 15000 similarities over chunk of 25000 elements.\n",
      "Computed 15000 similarities over chunk of 25000 elements.\n",
      "Computed 15000 similarities over chunk of 25000 elements.\n",
      "Computed 15000 similarities over chunk of 25000 elements.\n",
      "Computed 20000 similarities over chunk of 25000 elements.\n",
      "Computed 20000 similarities over chunk of 25000 elements.\n",
      "Computed 20000 similarities over chunk of 25000 elements.\n",
      "Computed 20000 similarities over chunk of 25000 elements.\n",
      "Similarity built\n",
      "Model fitted!\n"
     ]
    }
   ],
   "source": [
    "rs = importlib.reload(rs)\n",
    "tsr= TSR.TopSimilarRecommender(attributes=['artist_id', 'album'],idf=True, n_min_attr=90, n_el_sim=120)\n",
    "tsr.fit(tracks,tgt_tracks,multiprocessing=True)#, saved_similarity='BuiltStructures/tsr_sim_65el_idfTrue_artist_album_playcount.npz')\n",
    "print('Model fitted!')"
   ]
  },
  {
   "cell_type": "code",
   "execution_count": 34,
   "metadata": {
    "collapsed": false
   },
   "outputs": [
    {
     "name": "stdout",
     "output_type": "stream",
     "text": [
      "Calculated Indices\n",
      "(45649, 100000)\n",
      "Model URM built\n",
      "Computed 0 similarities over chunk of 11412 elements.\n",
      "Computed 0 similarities over chunk of 11412 elements.\n",
      "Computed 0 similarities over chunk of 11413 elements.\n",
      "Computed 0 similarities over chunk of 11412 elements.\n",
      "Computed 5000 similarities over chunk of 11413 elements.\n",
      "Computed 5000 similarities over chunk of 11412 elements.\n",
      "Computed 5000 similarities over chunk of 11412 elements.\n",
      "Computed 5000 similarities over chunk of 11412 elements.\n",
      "Computed 10000 similarities over chunk of 11412 elements.\n",
      "Computed 10000 similarities over chunk of 11413 elements.\n",
      "Computed 10000 similarities over chunk of 11412 elements.\n",
      "Computed 10000 similarities over chunk of 11412 elements.\n",
      "Similarity built\n",
      "Model fitted!\n"
     ]
    }
   ],
   "source": [
    "rs = importlib.reload(rs)\n",
    "UBR = importlib.reload(UBR)\n",
    "ubr = UBR.UserBasedRecommender(measure='imp_cos', shrinkage=10,n_el_sim =15)\n",
    "ubr.fit(tracks,train,tgt_playlists,multiprocessing=True)#, saved_similarity='BuiltStructures/ubr_sim_65el_impcos.npz')\n",
    "print('Model fitted!')"
   ]
  },
  {
   "cell_type": "code",
   "execution_count": 35,
   "metadata": {
    "collapsed": false
   },
   "outputs": [
    {
     "name": "stdout",
     "output_type": "stream",
     "text": [
      "Fixed dataset\n",
      "Calculated Indices\n",
      "ICM built\n",
      "ICM regularized with IDF!\n",
      "Computed 0 similarities over chunk of 25000 elements.\n",
      "Computed 0 similarities over chunk of 25000 elements.\n",
      "Computed 0 similarities over chunk of 25000 elements.\n",
      "Computed 0 similarities over chunk of 25000 elements.\n",
      "Computed 5000 similarities over chunk of 25000 elements.\n",
      "Computed 5000 similarities over chunk of 25000 elements.\n",
      "Computed 5000 similarities over chunk of 25000 elements.\n",
      "Computed 5000 similarities over chunk of 25000 elements.\n",
      "Computed 10000 similarities over chunk of 25000 elements.\n",
      "Computed 10000 similarities over chunk of 25000 elements.\n",
      "Computed 10000 similarities over chunk of 25000 elements.\n",
      "Computed 10000 similarities over chunk of 25000 elements.\n",
      "Computed 15000 similarities over chunk of 25000 elements.\n",
      "Computed 15000 similarities over chunk of 25000 elements.\n",
      "Computed 15000 similarities over chunk of 25000 elements.\n",
      "Computed 15000 similarities over chunk of 25000 elements.\n",
      "Computed 20000 similarities over chunk of 25000 elements.\n",
      "Computed 20000 similarities over chunk of 25000 elements.\n",
      "Computed 20000 similarities over chunk of 25000 elements.\n",
      "Computed 20000 similarities over chunk of 25000 elements.\n",
      "Similarity built\n",
      "Model fitted!\n"
     ]
    }
   ],
   "source": [
    "# CBF with tags\n",
    "rs = importlib.reload(rs)\n",
    "tsr_tag= TSR.TopSimilarRecommender(attributes=['artist_id','album','tags'],idf=True, n_min_attr=90, n_el_sim=120)\n",
    "tsr_tag.fit(tracks,tgt_tracks,multiprocessing=True)#, save_sim=True)\n",
    "print('Model fitted!')"
   ]
  },
  {
   "cell_type": "markdown",
   "metadata": {},
   "source": [
    "# Recommendation"
   ]
  },
  {
   "cell_type": "code",
   "execution_count": 36,
   "metadata": {
    "collapsed": false
   },
   "outputs": [
    {
     "name": "stdout",
     "output_type": "stream",
     "text": [
      "URM built\n"
     ]
    }
   ],
   "source": [
    "rs = importlib.reload(rs)\n",
    "_, _, IX_tgt_playlists, _ = rs.create_sparse_indexes(playlists=tgt_playlists)\n",
    "_, _, IX_playlists, _ = rs.create_sparse_indexes(tracks_info=tracks, playlists=train, tracks_reduced=tracks)\n",
    "URM = rs.create_tgt_URM(IX_tgt_playlists, tsr.IX_items, train)\n",
    "URM_UBR =rs.create_UBR_URM(IX_playlists, tsr.IX_tgt_items, train)\n",
    "print('URM built')"
   ]
  },
  {
   "cell_type": "code",
   "execution_count": 37,
   "metadata": {
    "collapsed": false
   },
   "outputs": [],
   "source": [
    "ubr.S =ubr.S.T.tocsr()\n",
    "URM = URM.tocsr()\n",
    "tsr.S = tsr.S.tocsr()\n",
    "tsr_tag.S = tsr_tag.S.tocsr()\n",
    "ibr.S =ibr.S.tocsr()\n",
    "URM_UBR= URM_UBR.tocsr()"
   ]
  },
  {
   "cell_type": "code",
   "execution_count": 38,
   "metadata": {
    "collapsed": false
   },
   "outputs": [
    {
     "data": {
      "text/plain": [
       "(1, 30319)"
      ]
     },
     "execution_count": 38,
     "metadata": {},
     "output_type": "execute_result"
    }
   ],
   "source": [
    "div_t = tsr.S.sum(axis=0)\n",
    "div_i = ibr.S.sum(axis=0)\n",
    "div_tt = tsr_tag.S.sum(axis=0)\n",
    "div_t.shape"
   ]
  },
  {
   "cell_type": "code",
   "execution_count": 39,
   "metadata": {
    "collapsed": false
   },
   "outputs": [
    {
     "name": "stdout",
     "output_type": "stream",
     "text": [
      "Recommended 0 users over 9129\n",
      "Recommended 1000 users over 9129\n",
      "Recommended 2000 users over 9129\n",
      "Recommended 3000 users over 9129\n",
      "Recommended 4000 users over 9129\n",
      "Recommended 5000 users over 9129\n",
      "Recommended 6000 users over 9129\n",
      "Recommended 7000 users over 9129\n",
      "Recommended 8000 users over 9129\n",
      "Recommended 9000 users over 9129\n"
     ]
    }
   ],
   "source": [
    "rs = importlib.reload(rs)\n",
    "recommendetions = np.array([])\n",
    "H_t=60\n",
    "H_i=200\n",
    "H_tt=60\n",
    "for p in IX_tgt_playlists.values:\n",
    "    avg_sims_t = URM[p,:].dot(tsr.S).toarray().ravel()\n",
    "    avg_sims_t = np.array(avg_sims_t/(div_t+H_t+1e-6)).ravel()\n",
    "    #avg_sims_tt = URM[p,:].dot(tsr_tag.S).toarray().ravel()\n",
    "    #avg_sims_tt = avg_sims_tt/(div_tt+H_tt+1e-6)\n",
    "    avg_sims_i = URM[p,:].dot(ibr.S).toarray().ravel()\n",
    "    avg_sims_i = np.array(avg_sims_i/(div_i+H_i+1e-6)).ravel()\n",
    "    avg_sims_u = ubr.S[p,:].dot(URM_UBR).toarray().ravel()\n",
    "    #avg_sims = np.array(avg_sims_t*1 + avg_sims_i*0+avg_sims_u*0).ravel()\n",
    "    top = rs.top5_outside_playlist(avg_sims_t, p, train, IX_tgt_playlists, tsr.IX_tgt_items, False, False)\n",
    "    recommendetions = np.append(recommendetions, rs.sub_format(top))\n",
    "    if (p % 1000 == 0):\n",
    "        print('Recommended ' + str(p) + ' users over ' + str(IX_tgt_playlists.values.shape[0]))\n",
    "rec_tsr =  pd.DataFrame({'playlist_id' : IX_tgt_playlists.index.values, 'track_ids' : recommendetions})"
   ]
  },
  {
   "cell_type": "markdown",
   "metadata": {},
   "source": [
    "# Evaluation"
   ]
  },
  {
   "cell_type": "code",
   "execution_count": 40,
   "metadata": {
    "collapsed": false,
    "scrolled": true
   },
   "outputs": [
    {
     "name": "stdout",
     "output_type": "stream",
     "text": [
      "Evaluation completed!\n"
     ]
    }
   ],
   "source": [
    "map_eval = rs.evaluate(rec_tsr, test, 'MAP')\n",
    "print('Evaluation completed!')"
   ]
  },
  {
   "cell_type": "code",
   "execution_count": 41,
   "metadata": {
    "collapsed": false
   },
   "outputs": [
    {
     "data": {
      "text/plain": [
       "0.053651002300361746"
      ]
     },
     "execution_count": 41,
     "metadata": {},
     "output_type": "execute_result"
    }
   ],
   "source": [
    "map_eval"
   ]
  },
  {
   "cell_type": "markdown",
   "metadata": {},
   "source": [
    "# Save to csv"
   ]
  },
  {
   "cell_type": "code",
   "execution_count": 13,
   "metadata": {
    "collapsed": false
   },
   "outputs": [
    {
     "name": "stdout",
     "output_type": "stream",
     "text": [
      "Results saved as csv!\n"
     ]
    }
   ],
   "source": [
    "rec_tsr.to_csv('Submissions/ensemble_submission_notags_alpha0304015015_h15_30_15_division_calculated_prev.csv', index=False)\n",
    "print('Results saved as csv!')"
   ]
  },
  {
   "cell_type": "code",
   "execution_count": null,
   "metadata": {
    "collapsed": true
   },
   "outputs": [],
   "source": []
  }
 ],
 "metadata": {
  "anaconda-cloud": {},
  "kernelspec": {
   "display_name": "Python [default]",
   "language": "python",
   "name": "python3"
  },
  "language_info": {
   "codemirror_mode": {
    "name": "ipython",
    "version": 3
   },
   "file_extension": ".py",
   "mimetype": "text/x-python",
   "name": "python",
   "nbconvert_exporter": "python",
   "pygments_lexer": "ipython3",
   "version": "3.5.2"
  }
 },
 "nbformat": 4,
 "nbformat_minor": 1
}
