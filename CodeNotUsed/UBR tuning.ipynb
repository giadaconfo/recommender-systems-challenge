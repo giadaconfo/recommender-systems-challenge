{
 "cells": [
  {
   "cell_type": "code",
   "execution_count": 1,
   "metadata": {
    "collapsed": true
   },
   "outputs": [],
   "source": [
    "import pandas as pd\n",
    "import recsys as rs\n",
    "import numpy as np\n",
    "import notipy\n",
    "import json\n",
    "import UserBasedRecommender as UBR\n",
    "import scipy.sparse as sps"
   ]
  },
  {
   "cell_type": "code",
   "execution_count": 2,
   "metadata": {
    "collapsed": true
   },
   "outputs": [],
   "source": [
    "data = pd.read_csv('Data/train_final.csv','\\t')\n",
    "tracks = pd.read_csv('Data/tracks_final.csv','\\t')"
   ]
  },
  {
   "cell_type": "code",
   "execution_count": 3,
   "metadata": {
    "collapsed": true
   },
   "outputs": [],
   "source": [
    "train, test, tgt_tracks, tgt_playlists = rs.train_test_split_interface(data, 10, 20, 5, 2517)"
   ]
  },
  {
   "cell_type": "code",
   "execution_count": null,
   "metadata": {
    "collapsed": true
   },
   "outputs": [],
   "source": [
    "fit_dicts = [{'idf' : True,\n",
    "             'measure' : 'imp_cos',\n",
    "             'shrinkage' : 5,\n",
    "             'n_el_sim' : 50},\n",
    "            {'idf' : False,\n",
    "             'measure' : 'cos',\n",
    "             'shrinkage' : 20,\n",
    "             'n_el_sim' : 50},\n",
    "            {'idf' : False,\n",
    "             'measure' : 'imp_cos',\n",
    "             'shrinkage' : 20,\n",
    "             'n_el_sim' : 50},\n",
    "            {'idf' : True,\n",
    "             'measure' : 'imp_cos',\n",
    "             'shrinkage' : 25,\n",
    "             'n_el_sim' : 90}]"
   ]
  },
  {
   "cell_type": "code",
   "execution_count": null,
   "metadata": {},
   "outputs": [
    {
     "name": "stdout",
     "output_type": "stream",
     "text": [
      "Calculated Indices\n",
      "(45649, 100000)\n",
      "Model URM built\n",
      "Model URM regularized with IDF!\n"
     ]
    },
    {
     "name": "stderr",
     "output_type": "stream",
     "text": [
      "100%|██████████| 45649/45649 [08:56<00:00, 85.03it/s] \n"
     ]
    },
    {
     "name": "stdout",
     "output_type": "stream",
     "text": [
      "Similarity built\n",
      "MAP score: 0.017949026910577977\n",
      "Calculated Indices\n",
      "(45649, 100000)\n",
      "Model URM built\n",
      "Model URM regularized with IDF!\n"
     ]
    },
    {
     "name": "stderr",
     "output_type": "stream",
     "text": [
      "100%|██████████| 45649/45649 [09:22<00:00, 81.17it/s] \n"
     ]
    },
    {
     "name": "stdout",
     "output_type": "stream",
     "text": [
      "Similarity built\n",
      "MAP score: 0.027575492021762023\n",
      "Calculated Indices\n",
      "(45649, 100000)\n",
      "Model URM built\n",
      "Model URM regularized with IDF!\n"
     ]
    },
    {
     "name": "stderr",
     "output_type": "stream",
     "text": [
      "100%|██████████| 45649/45649 [11:02<00:00, 68.85it/s] \n"
     ]
    },
    {
     "name": "stdout",
     "output_type": "stream",
     "text": [
      "Similarity built\n",
      "MAP score: 0.021204220980757256\n",
      "Calculated Indices\n",
      "(45649, 100000)\n",
      "Model URM built\n",
      "Model URM regularized with IDF!\n"
     ]
    },
    {
     "name": "stderr",
     "output_type": "stream",
     "text": [
      "100%|██████████| 45649/45649 [09:52<00:00, 77.09it/s] \n"
     ]
    },
    {
     "name": "stdout",
     "output_type": "stream",
     "text": [
      "Similarity built\n",
      "MAP score: 0.021204220980757256\n",
      "Calculated Indices\n",
      "(45649, 100000)\n",
      "Model URM built\n",
      "Model URM regularized with IDF!\n"
     ]
    },
    {
     "name": "stderr",
     "output_type": "stream",
     "text": [
      "100%|██████████| 45649/45649 [07:57<00:00, 95.67it/s] \n"
     ]
    },
    {
     "name": "stdout",
     "output_type": "stream",
     "text": [
      "Similarity built\n",
      "MAP score: 0.021204220980757256\n",
      "Calculated Indices\n",
      "(45649, 100000)\n",
      "Model URM built\n",
      "Model URM regularized with IDF!\n"
     ]
    },
    {
     "name": "stderr",
     "output_type": "stream",
     "text": [
      "100%|██████████| 45649/45649 [04:28<00:00, 170.26it/s]\n"
     ]
    },
    {
     "name": "stdout",
     "output_type": "stream",
     "text": [
      "Similarity built\n",
      "MAP score: 0.021204220980757256\n",
      "Calculated Indices\n",
      "(45649, 100000)\n",
      "Model URM built\n",
      "Model URM regularized with IDF!\n"
     ]
    },
    {
     "name": "stderr",
     "output_type": "stream",
     "text": [
      "100%|██████████| 45649/45649 [09:08<00:00, 83.28it/s] \n"
     ]
    },
    {
     "name": "stdout",
     "output_type": "stream",
     "text": [
      "Similarity built\n",
      "MAP score: 0.023537079636323753\n",
      "Calculated Indices\n",
      "(45649, 100000)\n",
      "Model URM built\n",
      "Model URM regularized with IDF!\n"
     ]
    },
    {
     "name": "stderr",
     "output_type": "stream",
     "text": [
      "100%|██████████| 45649/45649 [11:58<00:00, 63.52it/s] \n"
     ]
    },
    {
     "name": "stdout",
     "output_type": "stream",
     "text": [
      "Similarity built\n",
      "MAP score: 0.021204220980757256\n",
      "Calculated Indices\n",
      "(45649, 100000)\n",
      "Model URM built\n",
      "Model URM regularized with IDF!\n"
     ]
    },
    {
     "name": "stderr",
     "output_type": "stream",
     "text": [
      "100%|██████████| 45649/45649 [09:07<00:00, 83.36it/s] \n"
     ]
    },
    {
     "name": "stdout",
     "output_type": "stream",
     "text": [
      "Similarity built\n",
      "MAP score: 0.021204220980757256\n",
      "Calculated Indices\n",
      "(45649, 100000)\n",
      "Model URM built\n",
      "Model URM regularized with IDF!\n"
     ]
    },
    {
     "name": "stderr",
     "output_type": "stream",
     "text": [
      "100%|██████████| 45649/45649 [58:41<00:00, 12.96it/s]\n"
     ]
    },
    {
     "name": "stdout",
     "output_type": "stream",
     "text": [
      "Similarity built\n",
      "MAP score: 0.0009007923467338516\n",
      "Calculated Indices\n"
     ]
    },
    {
     "name": "stderr",
     "output_type": "stream",
     "text": [
      "\r",
      "  0%|          | 0/45649 [00:00<?, ?it/s]"
     ]
    },
    {
     "name": "stdout",
     "output_type": "stream",
     "text": [
      "(45649, 100000)\n",
      "Model URM built\n"
     ]
    },
    {
     "name": "stderr",
     "output_type": "stream",
     "text": [
      "  4%|▍         | 1771/45649 [14:24<5:57:07,  2.05it/s]"
     ]
    }
   ],
   "source": [
    "for params in fit_dicts:\n",
    "    ubr = UBR.UserBasedRecommender(**params)\n",
    "    ubr.fit(tracks, train, tgt_playlists)\n",
    "    \n",
    "    _, IX_tgt_items, IX_tgt_playlists, _ = rs.create_sparse_indexes(playlists=tgt_playlists, tracks_reduced=tgt_tracks)\n",
    "    UBR_URM = rs.create_UBR_URM(ubr.IX_playlists, IX_tgt_items, train)\n",
    "    UBR_URM = UBR_URM.tocsr()\n",
    "    ubr.S = ubr.S.T.tocsr()\n",
    "    recommendetions = np.array([])\n",
    "    div_u = ubr.S.sum(axis=0)\n",
    "    H_u=20\n",
    "    for p in IX_tgt_playlists.values:\n",
    "        avg_sims = (ubr.S[p,:].multiply(1/(div_u+H_u)).dot(UBR_URM).toarray().ravel())\n",
    "        top = rs.top5_outside_playlist(avg_sims, p, train, IX_tgt_playlists, IX_tgt_items, False, False)\n",
    "        recommendetions = np.append(recommendetions, rs.sub_format(top))\n",
    "    res =  pd.DataFrame({'playlist_id' : IX_tgt_playlists.index.values, 'track_ids' : recommendetions})\n",
    "    \n",
    "    map_eval = rs.evaluate(res, test, 'MAP')\n",
    "    print('MAP score: '+str(map_eval))\n",
    "    notipy.notify('MAP score: '+str(map_eval))\n",
    "    run_data = {'recommender' : ubr.__class__.__name__,\n",
    "                'fit_parameters' : params,\n",
    "                'evaluation' : map_eval}\n",
    "    with open('runs_data.json', 'a') as fp:\n",
    "        json.dump(run_data, fp, indent=2)\n",
    "        fp.write('\\n')"
   ]
  },
  {
   "cell_type": "code",
   "execution_count": null,
   "metadata": {
    "collapsed": true
   },
   "outputs": [],
   "source": []
  }
 ],
 "metadata": {
  "kernelspec": {
   "display_name": "Python 3",
   "language": "python",
   "name": "python3"
  },
  "language_info": {
   "codemirror_mode": {
    "name": "ipython",
    "version": 3
   },
   "file_extension": ".py",
   "mimetype": "text/x-python",
   "name": "python",
   "nbconvert_exporter": "python",
   "pygments_lexer": "ipython3",
   "version": "3.6.3"
  }
 },
 "nbformat": 4,
 "nbformat_minor": 2
}
