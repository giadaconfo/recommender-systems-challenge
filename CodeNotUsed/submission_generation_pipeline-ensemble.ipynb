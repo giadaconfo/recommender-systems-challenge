{
 "cells": [
  {
   "cell_type": "code",
   "execution_count": 1,
   "metadata": {
    "collapsed": true
   },
   "outputs": [],
   "source": [
    "import numpy as np\n",
    "import pandas as pd\n",
    "import recsys as rs\n",
    "import json\n",
    "import notipy\n",
    "import random\n",
    "import TopSimilarRecommender as TSR"
   ]
  },
  {
   "cell_type": "code",
   "execution_count": 2,
   "metadata": {
    "collapsed": true
   },
   "outputs": [],
   "source": [
    "train = pd.read_csv('Data/train_final.csv','\\t')\n",
    "tr_info = pd.read_csv('Data/tracks_final.csv','\\t')\n",
    "tgt_playlists = pd.read_csv('Data/target_playlists.csv','\\t')\n",
    "tgt_tracks = pd.read_csv('Data/target_tracks.csv','\\t')"
   ]
  },
  {
   "cell_type": "code",
   "execution_count": 3,
   "metadata": {
    "collapsed": true
   },
   "outputs": [],
   "source": [
    "fit_dict_tsr = {'attributes' : ['artist_id', 'album', 'tags', 'playcount'],\n",
    "                'attributes_to_prune' : ['tags'],\n",
    "                'n_min_attr' : 90,\n",
    "                'idf' : True,\n",
    "                'measure' : 'dot',\n",
    "                'shrinkage' : 0,\n",
    "                'n_el_sim' : 15}\n",
    "\n",
    "fit_dict_ibr = {'idf' : True,\n",
    "                'measure' : 'dot',\n",
    "                'shrinkage' : 0,\n",
    "                'n_el_sim' : 15}"
   ]
  },
  {
   "cell_type": "code",
   "execution_count": 4,
   "metadata": {
    "collapsed": false
   },
   "outputs": [
    {
     "name": "stdout",
     "output_type": "stream",
     "text": [
      "Fixed dataset\n",
      "Calculated Indices\n",
      "Eliminated low frequency attributes!\n",
      "ICM built\n",
      "ICM regularized with IDF!\n"
     ]
    },
    {
     "name": "stderr",
     "output_type": "stream",
     "text": [
      "/Users/LucaButera/git/rschallenge/recsys.py:336: RuntimeWarning: divide by zero encountered in true_divide\n",
      "  return np.log10(n_items / frequencies)\n",
      "100%|██████████| 100000/100000 [17:07<00:00, 97.32it/s]\n"
     ]
    },
    {
     "name": "stdout",
     "output_type": "stream",
     "text": [
      "Similarity built\n"
     ]
    }
   ],
   "source": [
    "tsr = TSR.TopSimilarRecommender(**fit_dict_tsr)\n",
    "tsr.fit(tr_info, tgt_tracks)\n",
    "notipy.notify('TSR fitted!')"
   ]
  },
  {
   "cell_type": "code",
   "execution_count": 6,
   "metadata": {
    "collapsed": true
   },
   "outputs": [],
   "source": [
    "import ItemBasedRecommender as IBR"
   ]
  },
  {
   "cell_type": "code",
   "execution_count": 7,
   "metadata": {
    "collapsed": false
   },
   "outputs": [
    {
     "name": "stderr",
     "output_type": "stream",
     "text": [
      "  0%|          | 25/45649 [00:00<03:02, 249.85it/s]"
     ]
    },
    {
     "name": "stdout",
     "output_type": "stream",
     "text": [
      "Calculated Indices\n"
     ]
    },
    {
     "name": "stderr",
     "output_type": "stream",
     "text": [
      "100%|██████████| 45649/45649 [05:37<00:00, 135.26it/s]\n"
     ]
    },
    {
     "name": "stdout",
     "output_type": "stream",
     "text": [
      "Model URM built\n",
      "Model URM regularized with IDF!\n"
     ]
    },
    {
     "name": "stderr",
     "output_type": "stream",
     "text": [
      "100%|██████████| 100000/100000 [37:46<00:00, 44.12it/s]\n"
     ]
    },
    {
     "name": "stdout",
     "output_type": "stream",
     "text": [
      "Similarity built\n"
     ]
    }
   ],
   "source": [
    "ibr = IBR.ItemBasedRecommender(**fit_dict_ibr)\n",
    "ibr.fit(tr_info, train, tgt_tracks)\n",
    "notipy.notify('IBR fitted!')"
   ]
  },
  {
   "cell_type": "code",
   "execution_count": 8,
   "metadata": {
    "collapsed": true
   },
   "outputs": [],
   "source": [
    "alpha = 0.77\n",
    "S_ensemble = (alpha*tsr.S)+((1-alpha)*ibr.S)"
   ]
  },
  {
   "cell_type": "code",
   "execution_count": 9,
   "metadata": {
    "collapsed": false
   },
   "outputs": [
    {
     "name": "stderr",
     "output_type": "stream",
     "text": [
      "100%|██████████| 10000/10000 [00:39<00:00, 253.95it/s]\n",
      "  0%|          | 13/10000 [00:00<01:21, 122.37it/s]"
     ]
    },
    {
     "name": "stdout",
     "output_type": "stream",
     "text": [
      "URM built\n"
     ]
    },
    {
     "name": "stderr",
     "output_type": "stream",
     "text": [
      "100%|██████████| 10000/10000 [01:16<00:00, 130.57it/s]\n"
     ]
    }
   ],
   "source": [
    "recommendetions = rs.generic_similarity_based_recommend(S_ensemble, tr_info, tgt_tracks, tgt_playlists, train)\n",
    "notipy.notify('Recommending completed!')"
   ]
  },
  {
   "cell_type": "code",
   "execution_count": 10,
   "metadata": {
    "collapsed": true
   },
   "outputs": [],
   "source": [
    "recommendetions.to_csv('Submissions/top_similar_submission_mashup.csv', index=False)\n",
    "notipy.notify('Results saved as csv!')"
   ]
  },
  {
   "cell_type": "code",
   "execution_count": null,
   "metadata": {
    "collapsed": true
   },
   "outputs": [],
   "source": []
  }
 ],
 "metadata": {
  "anaconda-cloud": {},
  "kernelspec": {
   "display_name": "Python [default]",
   "language": "python",
   "name": "python3"
  },
  "language_info": {
   "codemirror_mode": {
    "name": "ipython",
    "version": 3
   },
   "file_extension": ".py",
   "mimetype": "text/x-python",
   "name": "python",
   "nbconvert_exporter": "python",
   "pygments_lexer": "ipython3",
   "version": "3.5.2"
  }
 },
 "nbformat": 4,
 "nbformat_minor": 2
}
