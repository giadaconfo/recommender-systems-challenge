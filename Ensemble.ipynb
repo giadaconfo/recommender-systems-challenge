{
 "cells": [
  {
   "cell_type": "code",
   "execution_count": 14,
   "metadata": {
    "collapsed": true
   },
   "outputs": [],
   "source": [
    "import pandas as pd\n",
    "import numpy as np\n",
    "import os.path\n",
    "import recsys as rs\n",
    "import notipy\n",
    "import math\n",
    "import sys\n",
    "import TopSimilarRecommender as TSR\n",
    "import ItemBasedRecommender as IBR\n",
    "import random\n",
    "from scipy import sparse as sps\n",
    "import importlib"
   ]
  },
  {
   "cell_type": "code",
   "execution_count": 2,
   "metadata": {
    "collapsed": true
   },
   "outputs": [],
   "source": [
    "train = pd.read_csv('Data/train_final.csv','\\t')\n",
    "tracks = pd.read_csv('Data/tracks_final.csv','\\t')\n",
    "pl_info = pd.read_csv('Data/playlists_final.csv','\\t')\n",
    "tgt_pl = pd.read_csv('Data/target_playlists.csv','\\t')\n",
    "tgt_tr = pd.read_csv('Data/target_tracks.csv','\\t')"
   ]
  },
  {
   "cell_type": "code",
   "execution_count": 3,
   "metadata": {
    "collapsed": false
   },
   "outputs": [
    {
     "data": {
      "text/plain": [
       "(4420, 1)"
      ]
     },
     "execution_count": 3,
     "metadata": {},
     "output_type": "execute_result"
    }
   ],
   "source": [
    "train, test, tgt_tracks, tgt_playlists = rs.split_train_test(train, 10, 20, 5, 2517)\n",
    "tgt_playlists.shape"
   ]
  },
  {
   "cell_type": "code",
   "execution_count": 4,
   "metadata": {
    "collapsed": false
   },
   "outputs": [
    {
     "name": "stderr",
     "output_type": "stream",
     "text": [
      "  1%|          | 33/4420 [00:00<00:13, 321.79it/s]"
     ]
    },
    {
     "name": "stdout",
     "output_type": "stream",
     "text": [
      "Calculated Indices\n"
     ]
    },
    {
     "name": "stderr",
     "output_type": "stream",
     "text": [
      "100%|██████████| 4420/4420 [00:11<00:00, 398.60it/s]\n",
      "  0%|          | 36/100000 [00:00<04:41, 355.60it/s]"
     ]
    },
    {
     "name": "stdout",
     "output_type": "stream",
     "text": [
      "(4420, 100000)\n",
      "Model URM built\n"
     ]
    },
    {
     "name": "stderr",
     "output_type": "stream",
     "text": [
      "100%|██████████| 100000/100000 [07:53<00:00, 211.38it/s]"
     ]
    },
    {
     "name": "stdout",
     "output_type": "stream",
     "text": [
      "Similarity built\n",
      "(100000, 17113)\n",
      "Model fitted!\n"
     ]
    },
    {
     "name": "stderr",
     "output_type": "stream",
     "text": [
      "\n"
     ]
    }
   ],
   "source": [
    "ibr = IBR.ItemBasedRecommender()\n",
    "ibr.fit(tracks,train,tgt_tracks)\n",
    "#fit(self, track_ids, train_data, tgt_tracks=None):\n",
    "print('Model fitted!')"
   ]
  },
  {
   "cell_type": "code",
   "execution_count": 8,
   "metadata": {
    "collapsed": false
   },
   "outputs": [
    {
     "name": "stderr",
     "output_type": "stream",
     "text": [
      "\r",
      "  7%|▋         | 6972/100000 [00:30<06:49, 227.14it/s]"
     ]
    },
    {
     "name": "stdout",
     "output_type": "stream",
     "text": [
      "Fixed dataset\n",
      "Calculated Indices\n",
      "Eliminated low frequency attributes!\n",
      "ICM built\n",
      "ICM regularized with IDF!\n"
     ]
    },
    {
     "name": "stderr",
     "output_type": "stream",
     "text": [
      "\n",
      "  0%|          | 0/100000 [00:00<?, ?it/s]\u001b[A\n",
      "  0%|          | 32/100000 [00:00<05:15, 317.34it/s]\u001b[A\n",
      "  0%|          | 65/100000 [00:00<05:11, 321.11it/s]\u001b[A\n",
      "  0%|          | 92/100000 [00:00<05:29, 302.96it/s]\u001b[A\n",
      "  0%|          | 125/100000 [00:00<05:24, 308.25it/s]\u001b[A\n",
      "  0%|          | 158/100000 [00:00<05:19, 312.44it/s]\u001b[A\n",
      "  0%|          | 187/100000 [00:00<05:24, 307.89it/s]\u001b[A\n",
      "  0%|          | 215/100000 [00:00<05:29, 303.17it/s]\u001b[A\n",
      "  0%|          | 243/100000 [00:00<05:32, 299.74it/s]\u001b[A\n",
      "  0%|          | 271/100000 [00:00<05:38, 294.19it/s]\u001b[A\n",
      "  0%|          | 298/100000 [00:01<05:45, 288.29it/s]\u001b[A\n",
      "  0%|          | 324/100000 [00:01<05:49, 284.93it/s]\u001b[A\n",
      "  0%|          | 350/100000 [00:01<05:53, 281.92it/s]\u001b[A\n",
      "  0%|          | 376/100000 [00:01<05:57, 278.30it/s]\u001b[A\n",
      "  0%|          | 401/100000 [00:01<06:01, 275.25it/s]\u001b[A\n",
      "  0%|          | 426/100000 [00:01<06:04, 273.32it/s]\u001b[A\n",
      "  0%|          | 451/100000 [00:01<06:07, 270.87it/s]\u001b[A\n",
      "  0%|          | 476/100000 [00:01<06:09, 269.49it/s]\u001b[A\n",
      "  1%|          | 501/100000 [00:01<06:11, 267.63it/s]\u001b[A\n",
      "  1%|          | 526/100000 [00:01<06:13, 266.56it/s]\u001b[A\n",
      "  1%|          | 551/100000 [00:02<06:15, 264.77it/s]\u001b[A\n",
      "  1%|          | 576/100000 [00:02<06:16, 263.83it/s]\u001b[A\n",
      "  1%|          | 601/100000 [00:02<06:18, 262.34it/s]\u001b[A\n",
      "  1%|          | 626/100000 [00:02<06:19, 261.74it/s]\u001b[A\n",
      "  1%|          | 651/100000 [00:02<06:21, 260.30it/s]\u001b[A\n",
      "  1%|          | 675/100000 [00:02<06:23, 259.12it/s]\u001b[A\n",
      "  1%|          | 699/100000 [00:02<06:24, 258.10it/s]\u001b[A\n",
      "  1%|          | 723/100000 [00:02<06:25, 257.27it/s]\u001b[A\n",
      "  1%|          | 747/100000 [00:02<06:27, 256.44it/s]\u001b[A\n",
      "  1%|          | 771/100000 [00:03<06:28, 255.70it/s]\u001b[A\n",
      "  1%|          | 795/100000 [00:03<06:28, 255.06it/s]\u001b[A\n",
      "  1%|          | 819/100000 [00:03<06:29, 254.37it/s]\u001b[A\n",
      "  1%|          | 843/100000 [00:03<06:31, 253.10it/s]\u001b[A\n",
      "  1%|          | 866/100000 [00:03<06:33, 251.99it/s]\u001b[A\n",
      "  1%|          | 889/100000 [00:03<06:35, 250.83it/s]\u001b[A\n",
      "  1%|          | 912/100000 [00:03<06:36, 249.78it/s]\u001b[A\n",
      "  1%|          | 934/100000 [00:03<06:38, 248.80it/s]\u001b[A\n",
      "  1%|          | 956/100000 [00:03<06:39, 247.90it/s]\u001b[A\n",
      "  1%|          | 980/100000 [00:03<06:39, 247.59it/s]\u001b[A\n",
      "  1%|          | 1006/100000 [00:04<06:39, 247.72it/s]\u001b[A\n",
      "  1%|          | 1030/100000 [00:04<06:40, 247.08it/s]\u001b[A\n",
      "  1%|          | 1053/100000 [00:04<06:41, 246.42it/s]\u001b[A\n",
      "  1%|          | 1078/100000 [00:04<06:41, 246.29it/s]\u001b[A\n",
      "  1%|          | 1103/100000 [00:04<06:41, 246.14it/s]\u001b[A\n",
      "  1%|          | 1127/100000 [00:04<06:43, 245.31it/s]\u001b[A\n",
      "  1%|          | 1153/100000 [00:04<06:42, 245.41it/s]\u001b[A\n",
      "  1%|          | 1179/100000 [00:04<06:42, 245.44it/s]\u001b[A\n",
      "  1%|          | 1203/100000 [00:04<06:43, 244.60it/s]\u001b[A\n",
      "Exception in thread Thread-7:\n",
      "Traceback (most recent call last):\n",
      "  File \"/home/giada/anaconda3/lib/python3.5/threading.py\", line 914, in _bootstrap_inner\n",
      "    self.run()\n",
      "  File \"/home/giada/anaconda3/lib/python3.5/site-packages/tqdm/_tqdm.py\", line 144, in run\n",
      "    for instance in self.tqdm_cls._instances:\n",
      "  File \"/home/giada/anaconda3/lib/python3.5/_weakrefset.py\", line 60, in __iter__\n",
      "    for itemref in self.data:\n",
      "RuntimeError: Set changed size during iteration\n",
      "\n",
      "100%|██████████| 100000/100000 [09:13<00:00, 180.83it/s]"
     ]
    },
    {
     "name": "stdout",
     "output_type": "stream",
     "text": [
      "Similarity built\n",
      "Model fitted!\n"
     ]
    },
    {
     "name": "stderr",
     "output_type": "stream",
     "text": [
      "\n"
     ]
    }
   ],
   "source": [
    "tsr= TSR.TopSimilarRecommender(attributes=['artist_id', 'album', 'tags', 'playcount'],attributes_to_prune= ['tags'],idf=True, n_min_attr=90)\n",
    "tsr.fit(tracks,tgt_tracks )\n",
    "print('Model fitted!')"
   ]
  },
  {
   "cell_type": "code",
   "execution_count": 81,
   "metadata": {
    "collapsed": false
   },
   "outputs": [],
   "source": [
    "rs = importlib.reload(rs)\n",
    "similarity_matrix = rs. merge_similarities(tsr.S, ibr.S, 0.2)"
   ]
  },
  {
   "cell_type": "code",
   "execution_count": 82,
   "metadata": {
    "collapsed": false
   },
   "outputs": [
    {
     "data": {
      "text/plain": [
       "<100000x17113 sparse matrix of type '<class 'numpy.float64'>'\n",
       "\twith 2965233 stored elements in Compressed Sparse Row format>"
      ]
     },
     "execution_count": 82,
     "metadata": {},
     "output_type": "execute_result"
    }
   ],
   "source": [
    "similarity_matrix"
   ]
  },
  {
   "cell_type": "markdown",
   "metadata": {},
   "source": [
    "# Recommendation"
   ]
  },
  {
   "cell_type": "code",
   "execution_count": 83,
   "metadata": {
    "collapsed": false
   },
   "outputs": [
    {
     "name": "stderr",
     "output_type": "stream",
     "text": [
      "100%|██████████| 4420/4420 [00:08<00:00, 495.57it/s]\n"
     ]
    },
    {
     "name": "stdout",
     "output_type": "stream",
     "text": [
      "URM built\n"
     ]
    }
   ],
   "source": [
    "_, _, IX_tgt_playlists, _ = rs.create_sparse_indexes(playlists=tgt_playlists)\n",
    "URM = rs.create_tgt_URM(IX_tgt_playlists, tsr.IX_items, train)\n",
    "URM = URM.tocsr()\n",
    "print('URM built')"
   ]
  },
  {
   "cell_type": "code",
   "execution_count": 84,
   "metadata": {
    "collapsed": false
   },
   "outputs": [
    {
     "name": "stdout",
     "output_type": "stream",
     "text": [
      "Recommended 0 users over 4420\n",
      "Recommended 1000 users over 4420\n",
      "Recommended 2000 users over 4420\n",
      "Recommended 3000 users over 4420\n",
      "Recommended 4000 users over 4420\n"
     ]
    }
   ],
   "source": [
    "rs = importlib.reload(rs)\n",
    "recommendetions = np.array([])\n",
    "\n",
    "for p in IX_tgt_playlists.values:\n",
    "    #if normalize:\n",
    "    #    tsr_avg_sims = np.divide(URM[p,:].dot(TopSimilarRecommender.S).toarray(), norm_dividend).ravel()\n",
    "    avg_sims = URM[p,:].dot(similarity_matrix).toarray().ravel()\n",
    "    top = rs.top5_outside_playlist(avg_sims, p, train, IX_tgt_playlists, tsr.IX_tgt_items, False, False)\n",
    "    recommendetions = np.append(recommendetions, rs.sub_format(top))\n",
    "    if (p % 1000 == 0):\n",
    "        print('Recommended ' + str(p) + ' users over ' + str(IX_tgt_playlists.values.shape[0]))\n",
    "\n",
    "rec_df =  pd.DataFrame({'playlist_id' : IX_tgt_playlists.index.values, 'track_ids' : recommendetions})"
   ]
  },
  {
   "cell_type": "markdown",
   "metadata": {},
   "source": [
    "# Evaluation"
   ]
  },
  {
   "cell_type": "code",
   "execution_count": null,
   "metadata": {
    "collapsed": true
   },
   "outputs": [],
   "source": [
    "def evaluate(results, test, eval_metric='MAP'):\n",
    "    if eval_metric == 'MAP':\n",
    "        APs = results.apply(calculate_AP, axis=1, args=(test,))\n",
    "        res = (APs.sum())/results.shape[0]\n",
    "    return res\n",
    "\n",
    "def calculate_AP(row, test):\n",
    "    p_id = row['playlist_id']\n",
    "    recs = np.fromstring(row['track_ids'], dtype=float, sep=' ')\n",
    "\n",
    "    AP = 0\n",
    "    rel_sum = 0\n",
    "    n_rel_items = min(test[test['playlist_id'] == p_id].shape[0],5)\n",
    "    for i in range(recs.size):\n",
    "        rel = 1 if ((test['playlist_id'] == int(p_id)) & (test['track_id'] == recs[i])).any() else 0\n",
    "        rel_sum += rel\n",
    "        P = rel_sum/(i+1)\n",
    "        AP += (P * rel)/n_rel_items\n",
    "\n",
    "    return AP"
   ]
  },
  {
   "cell_type": "code",
   "execution_count": null,
   "metadata": {
    "collapsed": false
   },
   "outputs": [],
   "source": [
    "map_eval = evaluate(rec_df, test, 'MAP')\n",
    "print('Evaluation completed!')"
   ]
  },
  {
   "cell_type": "code",
   "execution_count": null,
   "metadata": {
    "collapsed": false
   },
   "outputs": [],
   "source": [
    "map_eval"
   ]
  },
  {
   "cell_type": "code",
   "execution_count": null,
   "metadata": {
    "collapsed": true
   },
   "outputs": [],
   "source": []
  },
  {
   "cell_type": "markdown",
   "metadata": {},
   "source": []
  }
 ],
 "metadata": {
  "anaconda-cloud": {},
  "kernelspec": {
   "display_name": "Python [default]",
   "language": "python",
   "name": "python3"
  },
  "language_info": {
   "codemirror_mode": {
    "name": "ipython",
    "version": 3
   },
   "file_extension": ".py",
   "mimetype": "text/x-python",
   "name": "python",
   "nbconvert_exporter": "python",
   "pygments_lexer": "ipython3",
   "version": "3.5.2"
  }
 },
 "nbformat": 4,
 "nbformat_minor": 1
}
