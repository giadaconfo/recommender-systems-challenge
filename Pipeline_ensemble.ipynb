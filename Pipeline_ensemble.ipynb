{
 "cells": [
  {
   "cell_type": "code",
   "execution_count": 44,
   "metadata": {
    "collapsed": true
   },
   "outputs": [],
   "source": [
    "import pandas as pd\n",
    "import numpy as np\n",
    "import os.path\n",
    "import recsys as rs\n",
    "import notipy\n",
    "import math\n",
    "import sys\n",
    "import TopSimilarRecommender as TSR\n",
    "import ItemBasedRecommender as IBR\n",
    "import random\n",
    "from scipy import sparse as sps\n",
    "import importlib"
   ]
  },
  {
   "cell_type": "code",
   "execution_count": 45,
   "metadata": {
    "collapsed": true
   },
   "outputs": [],
   "source": [
    "train = pd.read_csv('Data/train_final.csv','\\t')\n",
    "tracks = pd.read_csv('Data/tracks_final.csv','\\t')\n",
    "pl_info = pd.read_csv('Data/playlists_final.csv','\\t')\n",
    "tgt_playlists = pd.read_csv('Data/target_playlists.csv','\\t')\n",
    "tgt_tracks = pd.read_csv('Data/target_tracks.csv','\\t')"
   ]
  },
  {
   "cell_type": "code",
   "execution_count": 46,
   "metadata": {
    "collapsed": false
   },
   "outputs": [
    {
     "data": {
      "text/plain": [
       "(4420, 1)"
      ]
     },
     "execution_count": 46,
     "metadata": {},
     "output_type": "execute_result"
    }
   ],
   "source": [
    "train, test, tgt_tracks, tgt_playlists = rs.split_train_test(train, 10, 20, 5, 2517)\n",
    "tgt_playlists.shape"
   ]
  },
  {
   "cell_type": "code",
   "execution_count": 47,
   "metadata": {
    "collapsed": false
   },
   "outputs": [
    {
     "name": "stdout",
     "output_type": "stream",
     "text": [
      "Fixed dataset\n",
      "Calculated Indices\n"
     ]
    },
    {
     "name": "stderr",
     "output_type": "stream",
     "text": [
      "  0%|          | 19/100000 [00:00<09:12, 181.12it/s]"
     ]
    },
    {
     "name": "stdout",
     "output_type": "stream",
     "text": [
      "ICM built\n",
      "ICM regularized with IDF!\n"
     ]
    },
    {
     "name": "stderr",
     "output_type": "stream",
     "text": [
      "100%|██████████| 100000/100000 [24:06<00:00, 69.13it/s]"
     ]
    },
    {
     "name": "stdout",
     "output_type": "stream",
     "text": [
      "Similarity built\n",
      "Model fitted!\n"
     ]
    },
    {
     "name": "stderr",
     "output_type": "stream",
     "text": [
      "\n"
     ]
    }
   ],
   "source": [
    "tsr= TSR.TopSimilarRecommender(attributes=['artist_id', 'album', 'playcount'],idf=True, n_min_attr=90, n_el_sim=66)\n",
    "tsr.fit(tracks)\n",
    "print('Model fitted!')"
   ]
  },
  {
   "cell_type": "code",
   "execution_count": 48,
   "metadata": {
    "collapsed": false
   },
   "outputs": [
    {
     "name": "stderr",
     "output_type": "stream",
     "text": [
      "100%|██████████| 4420/4420 [00:06<00:00, 642.54it/s]\n"
     ]
    },
    {
     "name": "stdout",
     "output_type": "stream",
     "text": [
      "URM built\n"
     ]
    }
   ],
   "source": [
    "_, IX_tgt_items, IX_tgt_playlists, _ = rs.create_sparse_indexes(playlists=tgt_playlists)\n",
    "URM = rs.create_tgt_URM(IX_tgt_playlists, tsr.IX_items, train)\n",
    "URM = URM.tocsr()\n",
    "print('URM built')"
   ]
  },
  {
   "cell_type": "code",
   "execution_count": 49,
   "metadata": {
    "collapsed": false
   },
   "outputs": [
    {
     "name": "stdout",
     "output_type": "stream",
     "text": [
      "(4420, 100000)\n",
      "(100000, 100000)\n"
     ]
    },
    {
     "data": {
      "text/plain": [
       "<4420x100000 sparse matrix of type '<class 'numpy.int32'>'\n",
       "\twith 165758 stored elements in Compressed Sparse Row format>"
      ]
     },
     "execution_count": 49,
     "metadata": {},
     "output_type": "execute_result"
    }
   ],
   "source": [
    "print(URM.shape)\n",
    "print(tsr.S.shape)\n",
    "URM"
   ]
  },
  {
   "cell_type": "code",
   "execution_count": 50,
   "metadata": {
    "collapsed": false
   },
   "outputs": [],
   "source": [
    "est_URM = URM.dot(tsr.S)"
   ]
  },
  {
   "cell_type": "code",
   "execution_count": 51,
   "metadata": {
    "collapsed": false
   },
   "outputs": [
    {
     "data": {
      "text/plain": [
       "<4420x100000 sparse matrix of type '<class 'numpy.float64'>'\n",
       "\twith 3077092 stored elements in Compressed Sparse Row format>"
      ]
     },
     "execution_count": 51,
     "metadata": {},
     "output_type": "execute_result"
    }
   ],
   "source": [
    "est_URM"
   ]
  },
  {
   "cell_type": "code",
   "execution_count": 52,
   "metadata": {
    "collapsed": false
   },
   "outputs": [
    {
     "name": "stderr",
     "output_type": "stream",
     "text": [
      "  0%|          | 12/100000 [00:00<14:02, 118.72it/s]"
     ]
    },
    {
     "name": "stdout",
     "output_type": "stream",
     "text": [
      "Calculated Indices\n"
     ]
    },
    {
     "name": "stderr",
     "output_type": "stream",
     "text": [
      "100%|██████████| 100000/100000 [37:39<00:00, 44.25it/s]\n"
     ]
    },
    {
     "name": "stdout",
     "output_type": "stream",
     "text": [
      "Similarity built\n",
      "(100000, 17120)\n",
      "Model fitted!\n"
     ]
    }
   ],
   "source": [
    "IBR= importlib.reload(IBR)\n",
    "ibr = IBR.ItemBasedRecommender(shrinkage=20,n_el_sim=65)\n",
    "ibr.fit(tracks,train,tgt_tracks, URM=est_URM)\n",
    "print('Model fitted!')"
   ]
  },
  {
   "cell_type": "code",
   "execution_count": null,
   "metadata": {
    "collapsed": false
   },
   "outputs": [
    {
     "name": "stdout",
     "output_type": "stream",
     "text": [
      "(4420, 100000)\n",
      "(100000, 17120)\n"
     ]
    }
   ],
   "source": [
    "print(URM.shape)\n",
    "print(ibr.S.shape)\n",
    "IX_tgt_items"
   ]
  },
  {
   "cell_type": "code",
   "execution_count": 1,
   "metadata": {
    "collapsed": false
   },
   "outputs": [
    {
     "ename": "NameError",
     "evalue": "name 'importlib' is not defined",
     "output_type": "error",
     "traceback": [
      "\u001b[0;31m---------------------------------------------------------------------------\u001b[0m",
      "\u001b[0;31mNameError\u001b[0m                                 Traceback (most recent call last)",
      "\u001b[0;32m<ipython-input-1-02ebcb807cbc>\u001b[0m in \u001b[0;36m<module>\u001b[0;34m()\u001b[0m\n\u001b[0;32m----> 1\u001b[0;31m \u001b[0mrs\u001b[0m \u001b[0;34m=\u001b[0m \u001b[0mimportlib\u001b[0m\u001b[0;34m.\u001b[0m\u001b[0mreload\u001b[0m\u001b[0;34m(\u001b[0m\u001b[0mrs\u001b[0m\u001b[0;34m)\u001b[0m\u001b[0;34m\u001b[0m\u001b[0m\n\u001b[0m\u001b[1;32m      2\u001b[0m \u001b[0mrecommendetions\u001b[0m \u001b[0;34m=\u001b[0m \u001b[0mnp\u001b[0m\u001b[0;34m.\u001b[0m\u001b[0marray\u001b[0m\u001b[0;34m(\u001b[0m\u001b[0;34m[\u001b[0m\u001b[0;34m]\u001b[0m\u001b[0;34m)\u001b[0m\u001b[0;34m\u001b[0m\u001b[0m\n\u001b[1;32m      3\u001b[0m \u001b[0;32mfor\u001b[0m \u001b[0mp\u001b[0m \u001b[0;32min\u001b[0m \u001b[0mIX_tgt_playlists\u001b[0m\u001b[0;34m.\u001b[0m\u001b[0mvalues\u001b[0m\u001b[0;34m:\u001b[0m\u001b[0;34m\u001b[0m\u001b[0m\n\u001b[1;32m      4\u001b[0m     \u001b[0;31m#if normalize:\u001b[0m\u001b[0;34m\u001b[0m\u001b[0;34m\u001b[0m\u001b[0m\n\u001b[1;32m      5\u001b[0m     \u001b[0;31m#   tsr_avg_sims = np.divide(URM[p,:].dot(TopSimilarRecommender.S).toarray(), norm_dividend).ravel()\u001b[0m\u001b[0;34m\u001b[0m\u001b[0;34m\u001b[0m\u001b[0m\n",
      "\u001b[0;31mNameError\u001b[0m: name 'importlib' is not defined"
     ]
    }
   ],
   "source": [
    "rs = importlib.reload(rs)\n",
    "recommendetions = np.array([])\n",
    "for p in IX_tgt_playlists.values:\n",
    "    #if normalize:\n",
    "    #   tsr_avg_sims = np.divide(URM[p,:].dot(TopSimilarRecommender.S).toarray(), norm_dividend).ravel()\n",
    "    avg_sims = URM[p,:].dot(ibr.S).toarray().ravel()\n",
    "    top = rs.top5_outside_playlist(avg_sims, p, train, IX_tgt_playlists, ibr.IX_tgt_items, False, False)\n",
    "    recommendetions = np.append(recommendetions, rs.sub_format(top))\n",
    "    if (p % 1000 == 0):\n",
    "        print('Recommended ' + str(p) + ' users over ' + str(IX_tgt_playlists.values.shape[0]))\n",
    "\n",
    "rec_df =  pd.DataFrame({'playlist_id' : IX_tgt_playlists.index.values, 'track_ids' : recommendetions})"
   ]
  },
  {
   "cell_type": "code",
   "execution_count": null,
   "metadata": {
    "collapsed": true
   },
   "outputs": [],
   "source": [
    "def evaluate(results, test, eval_metric='MAP'):\n",
    "    if eval_metric == 'MAP':\n",
    "        APs = results.apply(calculate_AP, axis=1, args=(test,))\n",
    "        res = (APs.sum())/results.shape[0]\n",
    "    return res\n",
    "\n",
    "def calculate_AP(row, test):\n",
    "    p_id = row['playlist_id']\n",
    "    recs = np.fromstring(row['track_ids'], dtype=float, sep=' ')\n",
    "\n",
    "    AP = 0\n",
    "    rel_sum = 0\n",
    "    n_rel_items = min(test[test['playlist_id'] == p_id].shape[0],5)\n",
    "    for i in range(recs.size):\n",
    "        rel = 1 if ((test['playlist_id'] == int(p_id)) & (test['track_id'] == recs[i])).any() else 0\n",
    "        rel_sum += rel\n",
    "        P = rel_sum/(i+1)\n",
    "        AP += (P * rel)/n_rel_items\n",
    "\n",
    "    return AP"
   ]
  },
  {
   "cell_type": "code",
   "execution_count": null,
   "metadata": {
    "collapsed": false
   },
   "outputs": [],
   "source": [
    "map_eval = evaluate(rec_df, test, 'MAP')\n",
    "print('Evaluation completed!')"
   ]
  },
  {
   "cell_type": "code",
   "execution_count": null,
   "metadata": {
    "collapsed": false
   },
   "outputs": [],
   "source": [
    "map_eval"
   ]
  },
  {
   "cell_type": "code",
   "execution_count": null,
   "metadata": {
    "collapsed": true
   },
   "outputs": [],
   "source": []
  }
 ],
 "metadata": {
  "anaconda-cloud": {},
  "kernelspec": {
   "display_name": "Python [default]",
   "language": "python",
   "name": "python3"
  },
  "language_info": {
   "codemirror_mode": {
    "name": "ipython",
    "version": 3
   },
   "file_extension": ".py",
   "mimetype": "text/x-python",
   "name": "python",
   "nbconvert_exporter": "python",
   "pygments_lexer": "ipython3",
   "version": "3.5.2"
  }
 },
 "nbformat": 4,
 "nbformat_minor": 1
}
