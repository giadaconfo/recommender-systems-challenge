{
 "cells": [
  {
   "cell_type": "code",
   "execution_count": 1,
   "metadata": {},
   "outputs": [],
   "source": [
    "import pandas as pd\n",
    "import numpy as np\n",
    "import os.path\n",
    "import recsys as rs\n",
    "import notipy\n",
    "import math\n",
    "import sys\n",
    "import TopSimilarRecommender as TSR\n",
    "import ItemBasedRecommender as IBR\n",
    "import random\n",
    "from scipy import sparse as sps\n",
    "import importlib"
   ]
  },
  {
   "cell_type": "code",
   "execution_count": 2,
   "metadata": {
    "collapsed": true
   },
   "outputs": [],
   "source": [
    "train = pd.read_csv('Data/train_final.csv','\\t')\n",
    "tracks = pd.read_csv('Data/tracks_final.csv','\\t')\n",
    "pl_info = pd.read_csv('Data/playlists_final.csv','\\t')\n",
    "tgt_playlists = pd.read_csv('Data/target_playlists.csv','\\t')\n",
    "tgt_tracks = pd.read_csv('Data/target_tracks.csv','\\t')"
   ]
  },
  {
   "cell_type": "code",
   "execution_count": 3,
   "metadata": {},
   "outputs": [
    {
     "data": {
      "text/plain": [
       "(4420, 1)"
      ]
     },
     "execution_count": 3,
     "metadata": {},
     "output_type": "execute_result"
    }
   ],
   "source": [
    "train, test, tgt_tracks, tgt_playlists = rs.split_train_test(train, 10, 20, 5, 2517)\n",
    "tgt_playlists.shape"
   ]
  },
  {
   "cell_type": "code",
   "execution_count": 5,
   "metadata": {
    "scrolled": true
   },
   "outputs": [
    {
     "name": "stderr",
     "output_type": "stream",
     "text": [
      "  2%|▏         | 83/4420 [00:00<00:05, 828.08it/s]"
     ]
    },
    {
     "name": "stdout",
     "output_type": "stream",
     "text": [
      "Calculated Indices\n"
     ]
    },
    {
     "name": "stderr",
     "output_type": "stream",
     "text": [
      "100%|██████████| 4420/4420 [00:14<00:00, 296.76it/s]\n",
      "  0%|          | 42/100000 [00:00<03:58, 419.26it/s]"
     ]
    },
    {
     "name": "stdout",
     "output_type": "stream",
     "text": [
      "(4420, 100000)\n",
      "Model URM built\n",
      "Model URM regularized with IDF!\n"
     ]
    },
    {
     "name": "stderr",
     "output_type": "stream",
     "text": [
      "100%|██████████| 100000/100000 [21:28<00:00, 77.64it/s]\n"
     ]
    },
    {
     "name": "stdout",
     "output_type": "stream",
     "text": [
      "(100000, 17197)\n",
      "Model fitted!\n"
     ]
    }
   ],
   "source": [
    "ibr = IBR.ItemBasedRecommender(idf=True, shrinkage=10,n_el_sim=65)\n",
    "ibr.fit(tracks,train,tgt_tracks) #,saved_similarity='BuiltStructures/ibr_sim_65el_h10_idfTrue.npz')\n",
    "print('Model fitted!')"
   ]
  },
  {
   "cell_type": "code",
   "execution_count": 6,
   "metadata": {},
   "outputs": [
    {
     "name": "stdout",
     "output_type": "stream",
     "text": [
      "Fixed dataset\n",
      "Calculated Indices\n"
     ]
    },
    {
     "name": "stderr",
     "output_type": "stream",
     "text": [
      "  0%|          | 48/100000 [00:00<03:31, 472.19it/s]"
     ]
    },
    {
     "name": "stdout",
     "output_type": "stream",
     "text": [
      "ICM built\n",
      "ICM regularized with IDF!\n"
     ]
    },
    {
     "name": "stderr",
     "output_type": "stream",
     "text": [
      "100%|██████████| 100000/100000 [20:45<00:00, 80.28it/s]\n"
     ]
    },
    {
     "name": "stdout",
     "output_type": "stream",
     "text": [
      "Similarity built\n",
      "Model fitted!\n"
     ]
    }
   ],
   "source": [
    "tsr= TSR.TopSimilarRecommender(attributes=['artist_id', 'album', 'playcount'],idf=True, n_min_attr=90, n_el_sim=65)\n",
    "tsr.fit(tracks,tgt_tracks)#, saved_similarity='BuiltStructures/tsr_sim_65el_idfTrue_artist_album_playcount.npz')\n",
    "print('Model fitted!')"
   ]
  },
  {
   "cell_type": "markdown",
   "metadata": {},
   "source": [
    "# Recommendation"
   ]
  },
  {
   "cell_type": "code",
   "execution_count": 7,
   "metadata": {},
   "outputs": [
    {
     "name": "stderr",
     "output_type": "stream",
     "text": [
      "100%|██████████| 4420/4420 [00:09<00:00, 478.47it/s]"
     ]
    },
    {
     "name": "stdout",
     "output_type": "stream",
     "text": [
      "URM built\n"
     ]
    },
    {
     "name": "stderr",
     "output_type": "stream",
     "text": [
      "\n"
     ]
    }
   ],
   "source": [
    "_, _, IX_tgt_playlists, _ = rs.create_sparse_indexes(playlists=tgt_playlists)\n",
    "URM = rs.create_tgt_URM(IX_tgt_playlists, tsr.IX_items, train)\n",
    "URM = URM.tocsr()\n",
    "print('URM built')"
   ]
  },
  {
   "cell_type": "code",
   "execution_count": 37,
   "metadata": {},
   "outputs": [
    {
     "name": "stdout",
     "output_type": "stream",
     "text": [
      "Recommended 0 users over 4420\n",
      "Recommended 1000 users over 4420\n",
      "Recommended 2000 users over 4420\n",
      "Recommended 3000 users over 4420\n",
      "Recommended 4000 users over 4420\n"
     ]
    }
   ],
   "source": [
    "rs = importlib.reload(rs)\n",
    "recommendetions = np.array([])\n",
    "URM = URM.tocsr()\n",
    "tsr.S = tsr.S.tocsr()\n",
    "ibr.S = ibr.S.tocsr()\n",
    "div_t = tsr.S.sum(axis=0)\n",
    "div_i = ibr.S.sum(axis=0)\n",
    "H_t=10\n",
    "H_i=30\n",
    "for p in IX_tgt_playlists.values:\n",
    "    avg_sims_t = URM[p,:].dot(tsr.S).toarray().ravel()\n",
    "    avg_sims_t = avg_sims_t/(div_t+H_t)\n",
    "    avg_sims_i = URM[p,:].dot(ibr.S).toarray().ravel()\n",
    "    avg_sims_i = avg_sims_i/(div_i+H_i)\n",
    "    avg_sims = np.array(avg_sims_t*0.8 + avg_sims_i*0.2).ravel()\n",
    "    top = rs.top5_outside_playlist(avg_sims, p, train, IX_tgt_playlists, tsr.IX_tgt_items, False, False)\n",
    "    recommendetions = np.append(recommendetions, rs.sub_format(top))\n",
    "    if (p % 1000 == 0):\n",
    "        print('Recommended ' + str(p) + ' users over ' + str(IX_tgt_playlists.values.shape[0]))\n",
    "\n",
    "rec_tsr =  pd.DataFrame({'playlist_id' : IX_tgt_playlists.index.values, 'track_ids' : recommendetions})"
   ]
  },
  {
   "cell_type": "markdown",
   "metadata": {},
   "source": [
    "# Evaluation"
   ]
  },
  {
   "cell_type": "code",
   "execution_count": 38,
   "metadata": {
    "collapsed": true
   },
   "outputs": [],
   "source": [
    "def evaluate(results, test, eval_metric='MAP'):\n",
    "    if eval_metric == 'MAP':\n",
    "        APs = results.apply(calculate_AP, axis=1, args=(test,))\n",
    "        res = (APs.sum())/results.shape[0]\n",
    "    return res\n",
    "\n",
    "def calculate_AP(row, test):\n",
    "    p_id = row['playlist_id']\n",
    "    recs = np.fromstring(row['track_ids'], dtype=float, sep=' ')\n",
    "\n",
    "    AP = 0\n",
    "    rel_sum = 0\n",
    "    n_rel_items = min(test[test['playlist_id'] == p_id].shape[0],5)\n",
    "    for i in range(recs.size):\n",
    "        rel = 1 if ((test['playlist_id'] == int(p_id)) & (test['track_id'] == recs[i])).any() else 0\n",
    "        rel_sum += rel\n",
    "        P = rel_sum/(i+1)\n",
    "        AP += (P * rel)/n_rel_items\n",
    "\n",
    "    return AP"
   ]
  },
  {
   "cell_type": "code",
   "execution_count": 39,
   "metadata": {
    "scrolled": true
   },
   "outputs": [
    {
     "name": "stdout",
     "output_type": "stream",
     "text": [
      "Evaluation completed!\n"
     ]
    }
   ],
   "source": [
    "map_eval = evaluate(rec_tsr, test, 'MAP')\n",
    "print('Evaluation completed!')"
   ]
  },
  {
   "cell_type": "code",
   "execution_count": 40,
   "metadata": {},
   "outputs": [
    {
     "data": {
      "text/plain": [
       "0.10340196078431389"
      ]
     },
     "execution_count": 40,
     "metadata": {},
     "output_type": "execute_result"
    }
   ],
   "source": [
    "map_eval"
   ]
  },
  {
   "cell_type": "markdown",
   "metadata": {},
   "source": [
    "# Save to csv"
   ]
  },
  {
   "cell_type": "code",
   "execution_count": 10,
   "metadata": {},
   "outputs": [
    {
     "name": "stdout",
     "output_type": "stream",
     "text": [
      "Results saved as csv!\n"
     ]
    }
   ],
   "source": [
    "rec_tsr.to_csv('Submissions/ensemble_submission_notags_alpha075_nel65,shr=20_final_ensemble' + str(0) + '.csv', index=False)\n",
    "print('Results saved as csv!')"
   ]
  },
  {
   "cell_type": "code",
   "execution_count": null,
   "metadata": {
    "collapsed": true
   },
   "outputs": [],
   "source": []
  }
 ],
 "metadata": {
  "anaconda-cloud": {},
  "kernelspec": {
   "display_name": "Python 3",
   "language": "python",
   "name": "python3"
  },
  "language_info": {
   "codemirror_mode": {
    "name": "ipython",
    "version": 3
   },
   "file_extension": ".py",
   "mimetype": "text/x-python",
   "name": "python",
   "nbconvert_exporter": "python",
   "pygments_lexer": "ipython3",
   "version": "3.6.3"
  }
 },
 "nbformat": 4,
 "nbformat_minor": 1
}
