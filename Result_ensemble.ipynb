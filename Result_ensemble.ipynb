{
 "cells": [
  {
   "cell_type": "code",
   "execution_count": 2,
   "metadata": {
    "collapsed": false
   },
   "outputs": [],
   "source": [
    "import pandas as pd\n",
    "import numpy as np\n",
    "import os.path\n",
    "import recsys as rs\n",
    "import notipy\n",
    "import math\n",
    "import sys\n",
    "import TopSimilarRecommender as TSR\n",
    "import ItemBasedRecommender as IBR\n",
    "import UserBasedRecommender as UBR\n",
    "import random\n",
    "from scipy import sparse as sps\n",
    "import importlib"
   ]
  },
  {
   "cell_type": "code",
   "execution_count": 3,
   "metadata": {
    "collapsed": true
   },
   "outputs": [],
   "source": [
    "train = pd.read_csv('Data/train_final.csv','\\t')\n",
    "tracks = pd.read_csv('Data/tracks_final.csv','\\t')\n",
    "pl_info = pd.read_csv('Data/playlists_final.csv','\\t')\n",
    "tgt_playlists = pd.read_csv('Data/target_playlists.csv','\\t')\n",
    "tgt_tracks = pd.read_csv('Data/target_tracks.csv','\\t')"
   ]
  },
  {
   "cell_type": "code",
   "execution_count": 3,
   "metadata": {
    "collapsed": false
   },
   "outputs": [],
   "source": [
    "#train, test, tgt_tracks, tgt_playlists = rs.split_train_test(train, 10, 20, 5, 2517)\n",
    "#tgt_playlists.shape"
   ]
  },
  {
   "cell_type": "code",
   "execution_count": 4,
   "metadata": {
    "collapsed": false,
    "scrolled": true
   },
   "outputs": [
    {
     "name": "stderr",
     "output_type": "stream",
     "text": [
      "  0%|          | 20/45649 [00:00<03:53, 195.22it/s]"
     ]
    },
    {
     "name": "stdout",
     "output_type": "stream",
     "text": [
      "Calculated Indices\n"
     ]
    },
    {
     "name": "stderr",
     "output_type": "stream",
     "text": [
      "100%|██████████| 45649/45649 [04:00<00:00, 189.83it/s]\n"
     ]
    },
    {
     "name": "stdout",
     "output_type": "stream",
     "text": [
      "(45649, 100000)\n",
      "Model URM built\n",
      "Model URM regularized with IDF!\n"
     ]
    },
    {
     "name": "stderr",
     "output_type": "stream",
     "text": [
      "100%|██████████| 100000/100000 [45:12<00:00, 36.87it/s]\n"
     ]
    },
    {
     "name": "stdout",
     "output_type": "stream",
     "text": [
      "(100000, 32195)\n",
      "Model fitted!\n"
     ]
    }
   ],
   "source": [
    "ibr = IBR.ItemBasedRecommender(idf=True, shrinkage=10,n_el_sim=65)\n",
    "ibr.fit(tracks,train,tgt_tracks,save_sim=True)#saved_similarity='BuiltStructures/ibr_sim_65el_h10_idfTrue.npz'\n",
    "print('Model fitted!')"
   ]
  },
  {
   "cell_type": "code",
   "execution_count": 5,
   "metadata": {
    "collapsed": false
   },
   "outputs": [
    {
     "name": "stdout",
     "output_type": "stream",
     "text": [
      "Fixed dataset\n",
      "Calculated Indices\n"
     ]
    },
    {
     "name": "stderr",
     "output_type": "stream",
     "text": [
      "  0%|          | 32/100000 [00:00<05:24, 307.87it/s]"
     ]
    },
    {
     "name": "stdout",
     "output_type": "stream",
     "text": [
      "ICM built\n",
      "ICM regularized with IDF!\n"
     ]
    },
    {
     "name": "stderr",
     "output_type": "stream",
     "text": [
      "100%|██████████| 100000/100000 [28:09<00:00, 59.18it/s]\n"
     ]
    },
    {
     "name": "stdout",
     "output_type": "stream",
     "text": [
      "Similarity built\n",
      "Model fitted!\n"
     ]
    }
   ],
   "source": [
    "tsr= TSR.TopSimilarRecommender(attributes=['artist_id', 'album', 'playcount'],idf=True, n_min_attr=90, n_el_sim=65)\n",
    "tsr.fit(tracks,tgt_tracks,save_sim=True)# saved_similarity='BuiltStructures/tsr_sim_65el_h10_idfTrue.npz'\n",
    "print('Model fitted!')"
   ]
  },
  {
   "cell_type": "code",
   "execution_count": 29,
   "metadata": {
    "collapsed": false
   },
   "outputs": [
    {
     "name": "stderr",
     "output_type": "stream",
     "text": [
      "\n",
      "  0%|          | 0/45649 [00:00<?, ?it/s]\u001b[A\n",
      "  0%|          | 17/45649 [00:00<04:36, 164.95it/s]\u001b[A"
     ]
    },
    {
     "name": "stdout",
     "output_type": "stream",
     "text": [
      "Calculated Indices\n"
     ]
    },
    {
     "name": "stderr",
     "output_type": "stream",
     "text": [
      "\n",
      "  0%|          | 33/45649 [00:00<04:42, 161.23it/s]\u001b[A\n",
      "  0%|          | 53/45649 [00:00<04:29, 169.23it/s]\u001b[A\n",
      "  0%|          | 66/45649 [00:00<04:43, 161.00it/s]\u001b[A\n",
      "  0%|          | 82/45649 [00:00<04:45, 159.43it/s]\u001b[A\n",
      "  0%|          | 96/45649 [00:00<04:56, 153.60it/s]\u001b[A\n",
      "  0%|          | 115/45649 [00:00<04:47, 158.14it/s]\u001b[A\n",
      "  0%|          | 138/45649 [00:00<04:33, 166.69it/s]\u001b[A\n",
      "  0%|          | 160/45649 [00:00<04:24, 171.83it/s]\u001b[A\n",
      "  0%|          | 185/45649 [00:01<04:13, 179.06it/s]\u001b[A\n",
      "  0%|          | 210/45649 [00:01<04:05, 185.00it/s]\u001b[A\n",
      "  1%|          | 236/45649 [00:01<03:58, 190.76it/s]\u001b[A\n",
      "  1%|          | 261/45649 [00:01<03:52, 194.86it/s]\u001b[A\n",
      "  1%|          | 285/45649 [00:01<03:49, 197.60it/s]\u001b[A\n",
      "  1%|          | 309/45649 [00:01<03:46, 200.12it/s]\u001b[A\n",
      "  1%|          | 333/45649 [00:01<03:44, 202.16it/s]\u001b[A\n",
      "  1%|          | 358/45649 [00:01<03:41, 204.65it/s]\u001b[A\n",
      "  1%|          | 385/45649 [00:01<03:37, 207.97it/s]\u001b[A\n",
      "  1%|          | 410/45649 [00:01<03:35, 209.70it/s]\u001b[A\n",
      "  1%|          | 435/45649 [00:02<03:35, 209.87it/s]\u001b[A\n",
      "  1%|          | 459/45649 [00:02<03:39, 205.64it/s]\u001b[A\n",
      "  1%|          | 480/45649 [00:02<03:40, 204.62it/s]\u001b[A\n",
      "  1%|          | 501/45649 [00:02<03:44, 200.99it/s]\u001b[A\n",
      "Exception in thread Thread-21:\n",
      "Traceback (most recent call last):\n",
      "  File \"/home/giada/anaconda3/lib/python3.5/threading.py\", line 914, in _bootstrap_inner\n",
      "    self.run()\n",
      "  File \"/home/giada/anaconda3/lib/python3.5/site-packages/tqdm/_tqdm.py\", line 144, in run\n",
      "    for instance in self.tqdm_cls._instances:\n",
      "  File \"/home/giada/anaconda3/lib/python3.5/_weakrefset.py\", line 60, in __iter__\n",
      "    for itemref in self.data:\n",
      "RuntimeError: Set changed size during iteration\n",
      "\n",
      "100%|██████████| 45649/45649 [03:32<00:00, 214.39it/s]\n",
      "  0%|          | 8/45649 [00:00<10:21, 73.48it/s]"
     ]
    },
    {
     "name": "stdout",
     "output_type": "stream",
     "text": [
      "Model URM built\n"
     ]
    },
    {
     "name": "stderr",
     "output_type": "stream",
     "text": [
      "100%|██████████| 45649/45649 [09:29<00:00, 80.15it/s]\n"
     ]
    },
    {
     "name": "stdout",
     "output_type": "stream",
     "text": [
      "Similarity built\n",
      "Model fitted!\n"
     ]
    }
   ],
   "source": [
    "ubr = UBR.UserBasedRecommender(measure='imp_cos', shrinkage=20,n_el_sim =65)\n",
    "ubr.fit(tracks,train,tgt_playlists, save_sim=True)\n",
    "print('Model fitted!')"
   ]
  },
  {
   "cell_type": "markdown",
   "metadata": {},
   "source": [
    "# Recommendation"
   ]
  },
  {
   "cell_type": "code",
   "execution_count": 31,
   "metadata": {
    "collapsed": false
   },
   "outputs": [
    {
     "name": "stderr",
     "output_type": "stream",
     "text": [
      "100%|██████████| 10000/10000 [00:33<00:00, 298.56it/s]\n",
      "100%|██████████| 45649/45649 [09:55<00:00, 76.61it/s]\n"
     ]
    },
    {
     "name": "stdout",
     "output_type": "stream",
     "text": [
      "URM built\n"
     ]
    }
   ],
   "source": [
    "_, _, IX_tgt_playlists, _ = rs.create_sparse_indexes(playlists=tgt_playlists)\n",
    "_, _, IX_playlists, _ = rs.create_sparse_indexes(tracks_info=tracks, playlists=train, tracks_reduced=tracks)\n",
    "URM = rs.create_tgt_URM(IX_tgt_playlists, tsr.IX_items, train)\n",
    "URM_UBR =rs.create_UBR_URM(IX_playlists, tsr.IX_tgt_items, train)\n",
    "print('URM built')"
   ]
  },
  {
   "cell_type": "code",
   "execution_count": 34,
   "metadata": {
    "collapsed": false
   },
   "outputs": [],
   "source": [
    "ubr.S =ubr.S.T.tocsr()\n",
    "URM = URM.tocsr()\n",
    "tsr.S = tsr.S.tocsr()\n",
    "ibr.S =ibr.S.tocsr()\n",
    "URM_UBR= URM_UBR.tocsr()"
   ]
  },
  {
   "cell_type": "code",
   "execution_count": 35,
   "metadata": {
    "collapsed": false
   },
   "outputs": [
    {
     "name": "stdout",
     "output_type": "stream",
     "text": [
      "(10000, 100000)\n",
      "Recommended 0 users over 10000\n",
      "Recommended 1000 users over 10000\n",
      "Recommended 2000 users over 10000\n",
      "Recommended 3000 users over 10000\n",
      "Recommended 4000 users over 10000\n",
      "Recommended 5000 users over 10000\n",
      "Recommended 6000 users over 10000\n",
      "Recommended 7000 users over 10000\n",
      "Recommended 8000 users over 10000\n",
      "Recommended 9000 users over 10000\n"
     ]
    }
   ],
   "source": [
    "rs = importlib.reload(rs)\n",
    "recommendetions = np.array([])\n",
    "div_t = tsr.S.sum(axis=0)\n",
    "div_i = ibr.S.sum(axis=0)\n",
    "H_t=15\n",
    "H_i=30\n",
    "for p in IX_tgt_playlists.values:\n",
    "    avg_sims_t = URM[p,:].dot(tsr.S).toarray().ravel()\n",
    "    avg_sims_t = avg_sims_t/(div_t+H_t+1e-6)\n",
    "    avg_sims_i = URM[p,:].dot(ibr.S).toarray().ravel()\n",
    "    avg_sims_i = avg_sims_i/(div_i+H_i+1e-6)\n",
    "    avg_sims_u = ubr.S[p,:].dot(URM_UBR).toarray().ravel()\n",
    "    avg_sims = np.array(avg_sims_t*0.6 + avg_sims_i*0.2+avg_sims_u*0.2).ravel()\n",
    "    top = rs.top5_outside_playlist(avg_sims, p, train, IX_tgt_playlists, tsr.IX_tgt_items, False, False)\n",
    "    recommendetions = np.append(recommendetions, rs.sub_format(top))\n",
    "    if (p % 1000 == 0):\n",
    "        print('Recommended ' + str(p) + ' users over ' + str(IX_tgt_playlists.values.shape[0]))\n",
    "rec_tsr =  pd.DataFrame({'playlist_id' : IX_tgt_playlists.index.values, 'track_ids' : recommendetions})"
   ]
  },
  {
   "cell_type": "markdown",
   "metadata": {},
   "source": [
    "# Evaluation"
   ]
  },
  {
   "cell_type": "code",
   "execution_count": 129,
   "metadata": {
    "collapsed": true
   },
   "outputs": [],
   "source": [
    "def evaluate(results, test, eval_metric='MAP'):\n",
    "    if eval_metric == 'MAP':\n",
    "        APs = results.apply(calculate_AP, axis=1, args=(test,))\n",
    "        res = (APs.sum())/results.shape[0]\n",
    "    return res\n",
    "\n",
    "def calculate_AP(row, test):\n",
    "    p_id = row['playlist_id']\n",
    "    recs = np.fromstring(row['track_ids'], dtype=float, sep=' ')\n",
    "\n",
    "    AP = 0\n",
    "    rel_sum = 0\n",
    "    n_rel_items = min(test[test['playlist_id'] == p_id].shape[0],5)\n",
    "    for i in range(recs.size):\n",
    "        rel = 1 if ((test['playlist_id'] == int(p_id)) & (test['track_id'] == recs[i])).any() else 0\n",
    "        rel_sum += rel\n",
    "        P = rel_sum/(i+1)\n",
    "        AP += (P * rel)/n_rel_items\n",
    "\n",
    "    return AP"
   ]
  },
  {
   "cell_type": "code",
   "execution_count": 130,
   "metadata": {
    "collapsed": false,
    "scrolled": true
   },
   "outputs": [
    {
     "name": "stdout",
     "output_type": "stream",
     "text": [
      "Evaluation completed!\n"
     ]
    }
   ],
   "source": [
    "map_eval = evaluate(rec_tsr, test, 'MAP')\n",
    "print('Evaluation completed!')"
   ]
  },
  {
   "cell_type": "code",
   "execution_count": 131,
   "metadata": {
    "collapsed": false
   },
   "outputs": [
    {
     "data": {
      "text/plain": [
       "0.10056033182503786"
      ]
     },
     "execution_count": 131,
     "metadata": {},
     "output_type": "execute_result"
    }
   ],
   "source": [
    "map_eval"
   ]
  },
  {
   "cell_type": "markdown",
   "metadata": {},
   "source": [
    "# Save to csv"
   ]
  },
  {
   "cell_type": "code",
   "execution_count": 36,
   "metadata": {
    "collapsed": false
   },
   "outputs": [
    {
     "name": "stdout",
     "output_type": "stream",
     "text": [
      "Results saved as csv!\n"
     ]
    }
   ],
   "source": [
    "rec_tsr.to_csv('Submissions/ensemble_submission_notags_alpha060202_h1530.csv', index=False)\n",
    "print('Results saved as csv!')"
   ]
  }
 ],
 "metadata": {
  "anaconda-cloud": {},
  "kernelspec": {
   "display_name": "Python [default]",
   "language": "python",
   "name": "python3"
  },
  "language_info": {
   "codemirror_mode": {
    "name": "ipython",
    "version": 3
   },
   "file_extension": ".py",
   "mimetype": "text/x-python",
   "name": "python",
   "nbconvert_exporter": "python",
   "pygments_lexer": "ipython3",
   "version": "3.5.2"
  }
 },
 "nbformat": 4,
 "nbformat_minor": 1
}
