{
 "cells": [
  {
   "cell_type": "code",
   "execution_count": 53,
   "metadata": {},
   "outputs": [],
   "source": [
    "import pandas as pd\n",
    "import numpy as np\n",
    "import os.path\n",
    "import recsys as rs\n",
    "import notipy\n",
    "import json\n",
    "import math\n",
    "import sys\n",
    "import TopSimilarRecommender as TSR\n",
    "import ItemBasedRecommender as IBR\n",
    "import UserBasedRecommender as UBR\n",
    "import random\n",
    "from scipy import sparse as sps\n",
    "import importlib"
   ]
  },
  {
   "cell_type": "markdown",
   "metadata": {},
   "source": [
    "# Test split"
   ]
  },
  {
   "cell_type": "code",
   "execution_count": 2,
   "metadata": {
    "collapsed": true
   },
   "outputs": [],
   "source": [
    "train = pd.read_csv('Data/train_final.csv','\\t')\n",
    "tracks = pd.read_csv('Data/tracks_final.csv','\\t')\n",
    "pl_info = pd.read_csv('Data/playlists_final.csv','\\t')\n",
    "tgt_playlists = pd.read_csv('Data/target_playlists.csv','\\t')\n",
    "tgt_tracks = pd.read_csv('Data/target_tracks.csv','\\t')"
   ]
  },
  {
   "cell_type": "code",
   "execution_count": 3,
   "metadata": {},
   "outputs": [],
   "source": [
    "train, test, tgt_tracks, tgt_playlists = rs.split_train_test(train, 10, 20, 5, 2517)"
   ]
  },
  {
   "cell_type": "markdown",
   "metadata": {},
   "source": [
    "# Models fitting"
   ]
  },
  {
   "cell_type": "markdown",
   "metadata": {},
   "source": [
    "### Parameters"
   ]
  },
  {
   "cell_type": "code",
   "execution_count": 204,
   "metadata": {
    "collapsed": true
   },
   "outputs": [],
   "source": [
    "fit_dict_tsr = {'attributes' : ['artist_id', 'album', 'playcount'],\n",
    "                'n_min_attr' : 90,\n",
    "                'idf' : True,\n",
    "                'measure' : 'dot',\n",
    "                'shrinkage' : 0,\n",
    "                'n_el_sim' : 65}\n",
    "\n",
    "fit_dict_ibr = {'idf' : True,\n",
    "                'measure' : 'dot',\n",
    "                'shrinkage' : 10,\n",
    "                'n_el_sim' : 65}\n",
    "\n",
    "fit_dict_ubr = {'idf' : True,\n",
    "            'measure' : 'imp_cos',\n",
    "            'shrinkage' : 20,\n",
    "            'n_el_sim' : 50}\n",
    "\n",
    "alpha1=0.3\n",
    "alpha2=0.2\n",
    "\n",
    "beta1=0.6\n",
    "beta2=0.01"
   ]
  },
  {
   "cell_type": "code",
   "execution_count": 5,
   "metadata": {
    "scrolled": true
   },
   "outputs": [
    {
     "name": "stderr",
     "output_type": "stream",
     "text": [
      "  1%|          | 53/4420 [00:00<00:08, 525.43it/s]"
     ]
    },
    {
     "name": "stdout",
     "output_type": "stream",
     "text": [
      "Calculated Indices\n"
     ]
    },
    {
     "name": "stderr",
     "output_type": "stream",
     "text": [
      "100%|██████████| 4420/4420 [00:09<00:00, 452.77it/s]\n",
      "  0%|          | 43/100000 [00:00<03:53, 427.89it/s]"
     ]
    },
    {
     "name": "stdout",
     "output_type": "stream",
     "text": [
      "(4420, 100000)\n",
      "Model URM built\n",
      "Model URM regularized with IDF!\n"
     ]
    },
    {
     "name": "stderr",
     "output_type": "stream",
     "text": [
      "100%|██████████| 100000/100000 [43:50<00:00, 38.02it/s]\n"
     ]
    },
    {
     "name": "stdout",
     "output_type": "stream",
     "text": [
      "(100000, 17129)\n"
     ]
    }
   ],
   "source": [
    "ibr = IBR.ItemBasedRecommender(**fit_dict_ibr)\n",
    "ibr.fit(tracks,train,tgt_tracks)"
   ]
  },
  {
   "cell_type": "code",
   "execution_count": 6,
   "metadata": {},
   "outputs": [
    {
     "name": "stdout",
     "output_type": "stream",
     "text": [
      "Fixed dataset\n",
      "Calculated Indices\n"
     ]
    },
    {
     "name": "stderr",
     "output_type": "stream",
     "text": [
      "  0%|          | 51/100000 [00:00<03:17, 505.17it/s]"
     ]
    },
    {
     "name": "stdout",
     "output_type": "stream",
     "text": [
      "ICM built\n",
      "ICM regularized with IDF!\n"
     ]
    },
    {
     "name": "stderr",
     "output_type": "stream",
     "text": [
      "100%|██████████| 100000/100000 [43:50<00:00, 38.01it/s]\n"
     ]
    },
    {
     "name": "stdout",
     "output_type": "stream",
     "text": [
      "Similarity built\n"
     ]
    }
   ],
   "source": [
    "tsr= TSR.TopSimilarRecommender(**fit_dict_tsr)\n",
    "tsr.fit(tracks,tgt_tracks)"
   ]
  },
  {
   "cell_type": "code",
   "execution_count": 40,
   "metadata": {
    "scrolled": true
   },
   "outputs": [
    {
     "name": "stderr",
     "output_type": "stream",
     "text": [
      "  1%|▏         | 59/4420 [00:00<00:07, 589.67it/s]"
     ]
    },
    {
     "name": "stdout",
     "output_type": "stream",
     "text": [
      "Calculated Indices\n"
     ]
    },
    {
     "name": "stderr",
     "output_type": "stream",
     "text": [
      "100%|██████████| 4420/4420 [00:09<00:00, 468.27it/s]\n",
      "  0%|          | 16/4420 [00:00<00:27, 158.49it/s]"
     ]
    },
    {
     "name": "stdout",
     "output_type": "stream",
     "text": [
      "Model URM built\n",
      "Model URM regularized with IDF!\n"
     ]
    },
    {
     "name": "stderr",
     "output_type": "stream",
     "text": [
      "100%|██████████| 4420/4420 [00:27<00:00, 159.37it/s]"
     ]
    },
    {
     "name": "stdout",
     "output_type": "stream",
     "text": [
      "Similarity built\n"
     ]
    },
    {
     "name": "stderr",
     "output_type": "stream",
     "text": [
      "\n"
     ]
    }
   ],
   "source": [
    "ubr = UBR.UserBasedRecommender(**fit_dict_ubr)\n",
    "ubr.fit(tracks, train, tgt_playlists)"
   ]
  },
  {
   "cell_type": "markdown",
   "metadata": {},
   "source": [
    "# Auxiliary structures"
   ]
  },
  {
   "cell_type": "code",
   "execution_count": 41,
   "metadata": {},
   "outputs": [
    {
     "name": "stderr",
     "output_type": "stream",
     "text": [
      "100%|██████████| 4420/4420 [00:08<00:00, 527.46it/s]\n",
      "100%|██████████| 4420/4420 [00:14<00:00, 300.80it/s]\n"
     ]
    }
   ],
   "source": [
    "_, IX_tgt_items, IX_tgt_playlists, _ = rs.create_sparse_indexes(playlists=tgt_playlists, tracks_reduced=tgt_tracks)\n",
    "\n",
    "URM = rs.create_tgt_URM(IX_tgt_playlists, tsr.IX_items, train)\n",
    "URM = URM.tocsr()\n",
    "\n",
    "UBR_URM = rs.create_UBR_URM(ubr.IX_playlists, IX_tgt_items, train)\n",
    "UBR_URM = UBR_URM.tocsr()"
   ]
  },
  {
   "cell_type": "code",
   "execution_count": 43,
   "metadata": {
    "collapsed": true
   },
   "outputs": [],
   "source": [
    "ubr.S = ubr.S.T"
   ]
  },
  {
   "cell_type": "code",
   "execution_count": 205,
   "metadata": {
    "collapsed": true
   },
   "outputs": [],
   "source": [
    "S_ensemble = rs.merge_similarities(tsr.S, ibr.S, beta1)"
   ]
  },
  {
   "cell_type": "markdown",
   "metadata": {},
   "source": [
    "# Recommendation with only ratings level combination"
   ]
  },
  {
   "cell_type": "code",
   "execution_count": 206,
   "metadata": {},
   "outputs": [
    {
     "name": "stdout",
     "output_type": "stream",
     "text": [
      "Recommended 0 users over 4420\n",
      "Recommended 1000 users over 4420\n",
      "Recommended 2000 users over 4420\n",
      "Recommended 3000 users over 4420\n",
      "Recommended 4000 users over 4420\n"
     ]
    }
   ],
   "source": [
    "recommendetions = np.array([])\n",
    "URM = URM.tocsr()\n",
    "tsr.S = tsr.S.tocsr()\n",
    "ibr.S = ibr.S.tocsr()\n",
    "ubr.S = ubr.S.tocsr()\n",
    "div_t = tsr.S.sum(axis=0)\n",
    "div_i = ibr.S.sum(axis=0)\n",
    "div_u = ubr.S.sum(axis=0)\n",
    "H_t=10\n",
    "H_i=30\n",
    "H_u=20\n",
    "\n",
    "for p in IX_tgt_playlists.values:\n",
    "    avg_sims_t = (URM[p,:].dot(tsr.S).toarray().ravel())/(div_t+H_t)\n",
    "    avg_sims_i = (URM[p,:].dot(ibr.S).toarray().ravel())/(div_i+H_i)\n",
    "    avg_sims_u = (ubr.S[p,:].multiply(1/(div_u+H_u)).dot(UBR_URM).toarray().ravel())\n",
    "    \n",
    "    avg_sims = np.array(avg_sims_t*alpha1 + avg_sims_i*alpha2 + avg_sims_u*(1-alpha1-alpha2)).ravel()\n",
    "    \n",
    "    top = rs.top5_outside_playlist(avg_sims, p, train, IX_tgt_playlists, tsr.IX_tgt_items, False, False)\n",
    "    recommendetions = np.append(recommendetions, rs.sub_format(top))\n",
    "    if (p % 1000 == 0):\n",
    "        print('Recommended ' + str(p) + ' users over ' + str(IX_tgt_playlists.values.shape[0]))\n",
    "\n",
    "rec_only_ratings =  pd.DataFrame({'playlist_id' : IX_tgt_playlists.index.values, 'track_ids' : recommendetions})"
   ]
  },
  {
   "cell_type": "markdown",
   "metadata": {},
   "source": [
    "# Recommendetion with S matrix and ratings level combination"
   ]
  },
  {
   "cell_type": "code",
   "execution_count": 207,
   "metadata": {},
   "outputs": [
    {
     "name": "stdout",
     "output_type": "stream",
     "text": [
      "Recommended 0 users over 4420\n",
      "Recommended 1000 users over 4420\n",
      "Recommended 2000 users over 4420\n",
      "Recommended 3000 users over 4420\n",
      "Recommended 4000 users over 4420\n"
     ]
    }
   ],
   "source": [
    "recommendetions = np.array([])\n",
    "ubr.S = ubr.S.tocsr()\n",
    "div_e = S_ensemble.sum(axis=0)\n",
    "div_u = ubr.S.sum(axis=0)\n",
    "H_e=30\n",
    "H_u=20\n",
    "\n",
    "for p in IX_tgt_playlists.values:\n",
    "    avg_sims_e = (URM[p,:].dot(S_ensemble).toarray().ravel())#/(div_e+H_e)\n",
    "    avg_sims_u = (ubr.S[p,:].multiply(1/(div_u+H_u)).dot(UBR_URM).toarray().ravel())\n",
    "    \n",
    "    avg_sims = np.array(avg_sims_e*beta2 + avg_sims_u*(1-beta2)).ravel()\n",
    "    \n",
    "    top = rs.top5_outside_playlist(avg_sims, p, train, IX_tgt_playlists, tsr.IX_tgt_items, False, False)\n",
    "    recommendetions = np.append(recommendetions, rs.sub_format(top))\n",
    "    if (p % 1000 == 0):\n",
    "        print('Recommended ' + str(p) + ' users over ' + str(IX_tgt_playlists.values.shape[0]))\n",
    "\n",
    "rec_bilevel =  pd.DataFrame({'playlist_id' : IX_tgt_playlists.index.values, 'track_ids' : recommendetions})"
   ]
  },
  {
   "cell_type": "markdown",
   "metadata": {},
   "source": [
    "# Evaluation"
   ]
  },
  {
   "cell_type": "code",
   "execution_count": 208,
   "metadata": {
    "collapsed": true
   },
   "outputs": [],
   "source": [
    "map_eval_only_ratings = rs.evaluate(rec_only_ratings, test, 'MAP')"
   ]
  },
  {
   "cell_type": "code",
   "execution_count": 209,
   "metadata": {
    "scrolled": true
   },
   "outputs": [],
   "source": [
    "map_eval_bilevel = rs.evaluate(rec_bilevel, test, 'MAP')"
   ]
  },
  {
   "cell_type": "code",
   "execution_count": 210,
   "metadata": {},
   "outputs": [
    {
     "name": "stdout",
     "output_type": "stream",
     "text": [
      "0.10452714932126703\n",
      "0.09711312217194577\n"
     ]
    }
   ],
   "source": [
    "print(map_eval_only_ratings)\n",
    "print(map_eval_bilevel)"
   ]
  },
  {
   "cell_type": "markdown",
   "metadata": {},
   "source": [
    "# Saving run data"
   ]
  },
  {
   "cell_type": "code",
   "execution_count": 211,
   "metadata": {
    "collapsed": true
   },
   "outputs": [],
   "source": [
    "run_data = {'recommender_1' : tsr.__class__.__name__,\n",
    "            'recommender_2' : ibr.__class__.__name__,\n",
    "            'recommender_3' : ubr.__class__.__name__,\n",
    "            'fit_parameters_1' : fit_dict_tsr,\n",
    "            'fit_parameters_2' : fit_dict_ibr,\n",
    "            'fit_parameters_3' : fit_dict_ubr,\n",
    "            'alpha1_only_ratings' : alpha1,\n",
    "            'alpha2_only_ratings' : alpha2,\n",
    "            'beta1_bilevel' : beta1,\n",
    "            'beta2_bilevel' : beta2,\n",
    "            'evaluation_only_ratings' : map_eval_only_ratings,\n",
    "            'evaluation_bilevel' : map_eval_bilevel}"
   ]
  },
  {
   "cell_type": "code",
   "execution_count": 203,
   "metadata": {},
   "outputs": [],
   "source": [
    "with open('runs_data.json', 'a') as fp:\n",
    "    json.dump(run_data, fp, indent=2)\n",
    "    fp.write('\\n')"
   ]
  },
  {
   "cell_type": "code",
   "execution_count": null,
   "metadata": {
    "collapsed": true
   },
   "outputs": [],
   "source": []
  }
 ],
 "metadata": {
  "anaconda-cloud": {},
  "kernelspec": {
   "display_name": "Python 3",
   "language": "python",
   "name": "python3"
  },
  "language_info": {
   "codemirror_mode": {
    "name": "ipython",
    "version": 3
   },
   "file_extension": ".py",
   "mimetype": "text/x-python",
   "name": "python",
   "nbconvert_exporter": "python",
   "pygments_lexer": "ipython3",
   "version": "3.6.3"
  }
 },
 "nbformat": 4,
 "nbformat_minor": 1
}
