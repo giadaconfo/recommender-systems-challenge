{
 "cells": [
  {
   "cell_type": "code",
   "execution_count": 1,
   "metadata": {
    "collapsed": true
   },
   "outputs": [],
   "source": [
    "import pandas as pd\n",
    "import numpy as np\n",
    "import os.path\n",
    "import recsys as rs\n",
    "import notipy\n",
    "import json\n",
    "import math\n",
    "import sys\n",
    "import TopSimilarRecommender as TSR\n",
    "import ItemBasedRecommender as IBR\n",
    "import UserBasedRecommender as UBR\n",
    "import random\n",
    "from scipy import sparse as sps\n",
    "import importlib"
   ]
  },
  {
   "cell_type": "markdown",
   "metadata": {},
   "source": [
    "# Test split"
   ]
  },
  {
   "cell_type": "code",
   "execution_count": 2,
   "metadata": {
    "collapsed": true
   },
   "outputs": [],
   "source": [
    "data = pd.read_csv('Data/train_final.csv','\\t')\n",
    "tracks = pd.read_csv('Data/tracks_final.csv','\\t')\n",
    "pl_info = pd.read_csv('Data/playlists_final.csv','\\t')\n",
    "tgt_playlists = pd.read_csv('Data/target_playlists.csv','\\t')\n",
    "tgt_tracks = pd.read_csv('Data/target_tracks.csv','\\t')"
   ]
  },
  {
   "cell_type": "code",
   "execution_count": 3,
   "metadata": {},
   "outputs": [
    {
     "name": "stderr",
     "output_type": "stream",
     "text": [
      "100%|██████████| 45649/45649 [05:13<00:00, 145.69it/s]\n"
     ]
    }
   ],
   "source": [
    "train, test, tgt_tracks, tgt_playlists = rs.train_test_split_interface(data, 10, 20, 5, 2517)"
   ]
  },
  {
   "cell_type": "markdown",
   "metadata": {},
   "source": [
    "# Models fitting"
   ]
  },
  {
   "cell_type": "markdown",
   "metadata": {},
   "source": [
    "### Parameters"
   ]
  },
  {
   "cell_type": "code",
   "execution_count": 4,
   "metadata": {
    "collapsed": true
   },
   "outputs": [],
   "source": [
    "fit_dict_tsr = {'attributes' : ['artist_id', 'album', 'playcount'],\n",
    "                'n_min_attr' : 90,\n",
    "                'idf' : True,\n",
    "                'measure' : 'dot',\n",
    "                'shrinkage' : 0,\n",
    "                'n_el_sim' : 65}\n",
    "\n",
    "fit_dict_ibr = {'idf' : True,\n",
    "                'measure' : 'dot',\n",
    "                'shrinkage' : 10,\n",
    "                'n_el_sim' : 65}\n",
    "\n",
    "fit_dict_ubr = {'idf' : True,\n",
    "            'measure' : 'imp_cos',\n",
    "            'shrinkage' : 20,\n",
    "            'n_el_sim' : 50}"
   ]
  },
  {
   "cell_type": "markdown",
   "metadata": {},
   "source": [
    "## Precomputed similarities loading"
   ]
  },
  {
   "cell_type": "code",
   "execution_count": 5,
   "metadata": {
    "collapsed": true
   },
   "outputs": [],
   "source": [
    "ibr = IBR.ItemBasedRecommender(**fit_dict_ibr)\n",
    "tsr= TSR.TopSimilarRecommender(**fit_dict_tsr)\n",
    "ubr = UBR.UserBasedRecommender(**fit_dict_ubr)\n",
    "tsr.S = sps.load_npz('BuiltStructures/cbf_Smatrix_Luca.npz')\n",
    "ibr.S = sps.load_npz('BuiltStructures/ibr_Smatrix_Luca.npz')\n",
    "ubr.S = sps.load_npz('BuiltStructures/ubr_Smatrix_Luca.npz')"
   ]
  },
  {
   "cell_type": "markdown",
   "metadata": {},
   "source": [
    "# Auxiliary structures"
   ]
  },
  {
   "cell_type": "code",
   "execution_count": 6,
   "metadata": {},
   "outputs": [
    {
     "name": "stderr",
     "output_type": "stream",
     "text": [
      "100%|██████████| 9129/9129 [00:33<00:00, 270.55it/s]\n",
      "100%|██████████| 45649/45649 [05:48<00:00, 131.07it/s]\n"
     ]
    }
   ],
   "source": [
    "IX_items, IX_tgt_items, IX_tgt_playlists, _ = rs.create_sparse_indexes(tracks_info=tracks, playlists=tgt_playlists, tracks_reduced=tgt_tracks)\n",
    "_, _, IX_playlists, _ = rs.create_sparse_indexes(playlists=train)\n",
    "\n",
    "URM = rs.create_tgt_URM(IX_tgt_playlists, IX_items, train)\n",
    "URM = URM.tocsr()\n",
    "\n",
    "UBR_URM = rs.create_UBR_URM(IX_playlists, IX_tgt_items, train)\n",
    "UBR_URM = UBR_URM.tocsr()"
   ]
  },
  {
   "cell_type": "markdown",
   "metadata": {},
   "source": [
    "# Iterative ensemble parameters fast evaluation"
   ]
  },
  {
   "cell_type": "markdown",
   "metadata": {},
   "source": [
    "## Cicle setup"
   ]
  },
  {
   "cell_type": "code",
   "execution_count": 7,
   "metadata": {},
   "outputs": [],
   "source": [
    "alpha1 = [0.3, 0.3, 0.3, 0.3, 0.2, 0.1, 0.4, 0.05, 0.4, 0.4, 0.4, 0.4, 0.5, 0.2, 0.1, 0.6]\n",
    "alpha2 = [0.2, 0.1, 0.3, 0.05, 0.2, 0.2, 0.2, 0.2, 0.3, 0.2, 0.4, 0.1, 0.3, 0.3, 0.3, 0.3]\n",
    "beta1 = [0.6, 0.6, 0.6, 0.6, 0.5, 0.7, 0.4, 0.8, 0.7, 0.7, 0.7, 0.7, 0.6, 0.5, 0.7, 0.8]\n",
    "beta2 = [0.01, 0.001, 0.1, 0.05, 0.01, 0.01, 0.01, 0.01, 0.001, 0.1, 0.15, 0.05, 0.15, 0.15, 0.15, 0.15]"
   ]
  },
  {
   "cell_type": "markdown",
   "metadata": {},
   "source": [
    "## Iteration"
   ]
  },
  {
   "cell_type": "code",
   "execution_count": 9,
   "metadata": {},
   "outputs": [
    {
     "name": "stdout",
     "output_type": "stream",
     "text": [
      "Completed iteration #0 over 16\n",
      "Completed iteration #1 over 16\n",
      "Completed iteration #2 over 16\n",
      "Completed iteration #3 over 16\n",
      "Completed iteration #4 over 16\n",
      "Completed iteration #5 over 16\n",
      "Completed iteration #6 over 16\n",
      "Completed iteration #7 over 16\n",
      "Completed iteration #8 over 16\n",
      "Completed iteration #9 over 16\n",
      "Completed iteration #10 over 16\n",
      "Completed iteration #11 over 16\n",
      "Completed iteration #12 over 16\n",
      "Completed iteration #13 over 16\n",
      "Completed iteration #14 over 16\n",
      "Completed iteration #15 over 16\n"
     ]
    }
   ],
   "source": [
    "for i in range(len(alpha1)):\n",
    "    S_ensemble = rs.merge_similarities(tsr.S, ibr.S, beta1[i])\n",
    "\n",
    "    #Recommendation with only ratings level combination\n",
    "\n",
    "    recommendetions = np.array([])\n",
    "    div_t = tsr.S.sum(axis=0)\n",
    "    div_i = ibr.S.sum(axis=0)\n",
    "    div_u = ubr.S.sum(axis=0)\n",
    "    H_t=10\n",
    "    H_i=30\n",
    "    H_u=20\n",
    "    for p in IX_tgt_playlists.values:\n",
    "        avg_sims_t = (URM[p,:].dot(tsr.S).toarray().ravel())/(div_t+H_t)\n",
    "        avg_sims_i = (URM[p,:].dot(ibr.S).toarray().ravel())/(div_i+H_i)\n",
    "        avg_sims_u = (ubr.S[p,:].multiply(1/(div_u+H_u)).dot(UBR_URM).toarray().ravel())\n",
    "        avg_sims = np.array(avg_sims_t*alpha1[i] + avg_sims_i*alpha2[i] + avg_sims_u*(1-alpha1[i]-alpha2[i])).ravel()\n",
    "        top = rs.top5_outside_playlist(avg_sims, p, train, IX_tgt_playlists, IX_tgt_items, False, False)\n",
    "        recommendetions = np.append(recommendetions, rs.sub_format(top))\n",
    "    rec_only_ratings =  pd.DataFrame({'playlist_id' : IX_tgt_playlists.index.values, 'track_ids' : recommendetions})\n",
    "\n",
    "\n",
    "    #Recommendetion with S matrix and ratings level combination\n",
    "\n",
    "    recommendetions = np.array([])\n",
    "    div_e = S_ensemble.sum(axis=0)\n",
    "    H_e=30\n",
    "    H_u=20\n",
    "    for p in IX_tgt_playlists.values:\n",
    "        avg_sims_e = (URM[p,:].dot(S_ensemble).toarray().ravel())#/(div_e+H_e)\n",
    "        avg_sims_u = (ubr.S[p,:].multiply(1/(div_u+H_u)).dot(UBR_URM).toarray().ravel())\n",
    "        avg_sims = np.array(avg_sims_e*beta2[i] + avg_sims_u*(1-beta2[i])).ravel()\n",
    "        top = rs.top5_outside_playlist(avg_sims, p, train, IX_tgt_playlists, IX_tgt_items, False, False)\n",
    "        recommendetions = np.append(recommendetions, rs.sub_format(top))\n",
    "    rec_bilevel =  pd.DataFrame({'playlist_id' : IX_tgt_playlists.index.values, 'track_ids' : recommendetions})\n",
    "\n",
    "\n",
    "    # Evaluation\n",
    "\n",
    "    map_eval_only_ratings = rs.evaluate(rec_only_ratings, test, 'MAP')\n",
    "    map_eval_bilevel = rs.evaluate(rec_bilevel, test, 'MAP')\n",
    "\n",
    "\n",
    "    # Saving run data\n",
    "\n",
    "    run_data = {'recommender_1' : tsr.__class__.__name__,\n",
    "                'recommender_2' : ibr.__class__.__name__,\n",
    "                'recommender_3' : ubr.__class__.__name__,\n",
    "                'fit_parameters_1' : fit_dict_tsr,\n",
    "                'fit_parameters_2' : fit_dict_ibr,\n",
    "                'fit_parameters_3' : fit_dict_ubr,\n",
    "                'alpha1_only_ratings' : alpha1[i],\n",
    "                'alpha2_only_ratings' : alpha2[i],\n",
    "                'beta1_bilevel' : beta1[i],\n",
    "                'beta2_bilevel' : beta2[i],\n",
    "                'evaluation_only_ratings' : map_eval_only_ratings,\n",
    "                'evaluation_bilevel' : map_eval_bilevel}\n",
    "\n",
    "    with open('runs_data.json', 'a') as fp:\n",
    "        json.dump(run_data, fp, indent=2)\n",
    "        fp.write('\\n')\n",
    "    \n",
    "    print('Completed iteration #' + str(i) + ' over ' + str(len(alpha1)))"
   ]
  },
  {
   "cell_type": "code",
   "execution_count": null,
   "metadata": {
    "collapsed": true
   },
   "outputs": [],
   "source": []
  }
 ],
 "metadata": {
  "anaconda-cloud": {},
  "kernelspec": {
   "display_name": "Python 3",
   "language": "python",
   "name": "python3"
  },
  "language_info": {
   "codemirror_mode": {
    "name": "ipython",
    "version": 3
   },
   "file_extension": ".py",
   "mimetype": "text/x-python",
   "name": "python",
   "nbconvert_exporter": "python",
   "pygments_lexer": "ipython3",
   "version": "3.6.3"
  }
 },
 "nbformat": 4,
 "nbformat_minor": 1
}
