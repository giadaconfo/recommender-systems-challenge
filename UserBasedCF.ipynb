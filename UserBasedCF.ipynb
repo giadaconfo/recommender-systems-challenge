{
 "cells": [
  {
   "cell_type": "code",
   "execution_count": 1,
   "metadata": {
    "collapsed": true
   },
   "outputs": [],
   "source": [
    "import pandas as pd\n",
    "import numpy as np\n",
    "import os.path\n",
    "import recsys as rs\n",
    "import notipy\n",
    "import math\n",
    "import sys\n",
    "import UserBasedRecommender as UBR\n",
    "import random\n",
    "from scipy import sparse as sps\n",
    "import importlib"
   ]
  },
  {
   "cell_type": "code",
   "execution_count": 2,
   "metadata": {},
   "outputs": [],
   "source": [
    "train = pd.read_csv('Data/train_final.csv','\\t')\n",
    "tracks = pd.read_csv('Data/tracks_final.csv','\\t')\n",
    "pl_info = pd.read_csv('Data/playlists_final.csv','\\t')\n",
    "tgt_pl = pd.read_csv('Data/target_playlists.csv','\\t')\n",
    "tgt_tr = pd.read_csv('Data/target_tracks.csv','\\t')"
   ]
  },
  {
   "cell_type": "code",
   "execution_count": 3,
   "metadata": {},
   "outputs": [],
   "source": [
    "train, test, tgt_tr, tgt_pl = rs.split_train_test(train, 10, 20, 5, 2517)"
   ]
  },
  {
   "cell_type": "code",
   "execution_count": 4,
   "metadata": {},
   "outputs": [
    {
     "name": "stderr",
     "output_type": "stream",
     "text": [
      "  1%|          | 54/4420 [00:00<00:08, 509.15it/s]"
     ]
    },
    {
     "name": "stdout",
     "output_type": "stream",
     "text": [
      "Calculated Indices\n"
     ]
    },
    {
     "name": "stderr",
     "output_type": "stream",
     "text": [
      "100%|██████████| 4420/4420 [00:19<00:00, 230.96it/s]\n",
      "  1%|          | 26/4420 [00:00<00:17, 257.98it/s]"
     ]
    },
    {
     "name": "stdout",
     "output_type": "stream",
     "text": [
      "(4420, 100000)\n",
      "Model URM built\n",
      "4420\n"
     ]
    },
    {
     "name": "stderr",
     "output_type": "stream",
     "text": [
      "100%|██████████| 4420/4420 [00:32<00:00, 135.69it/s]"
     ]
    },
    {
     "name": "stdout",
     "output_type": "stream",
     "text": [
      "Similarity built\n",
      "(4420, 4420)\n",
      "Model fitted!\n"
     ]
    },
    {
     "name": "stderr",
     "output_type": "stream",
     "text": [
      "\n"
     ]
    }
   ],
   "source": [
    "UBR = importlib.reload(UBR)\n",
    "ubr = UBR.UserBasedRecommender(shrinkage=20,n_el_sim=20)\n",
    "ubr.fit(tracks,train,tgt_tr)\n",
    "print('Model fitted!')"
   ]
  },
  {
   "cell_type": "code",
   "execution_count": 5,
   "metadata": {},
   "outputs": [
    {
     "name": "stderr",
     "output_type": "stream",
     "text": [
      "100%|██████████| 4420/4420 [00:14<00:00, 305.55it/s]\n"
     ]
    },
    {
     "name": "stdout",
     "output_type": "stream",
     "text": [
      "URM built\n"
     ]
    }
   ],
   "source": [
    "_, _, ubr.IX_tgt_playlists, _ = rs.create_sparse_indexes(tracks_info=tracks, playlists=tgt_pl, tracks_reduced=tgt_tr)\n",
    "URM = rs.create_tgt_URM(ubr.IX_tgt_playlists, ubr.IX_items, train)\n",
    "URM = URM.tocsr()\n",
    "print('URM built')"
   ]
  },
  {
   "cell_type": "code",
   "execution_count": 25,
   "metadata": {},
   "outputs": [
    {
     "name": "stdout",
     "output_type": "stream",
     "text": [
      "Recommended 0 users over 4420\n",
      "Recommended 1000 users over 4420\n",
      "Recommended 2000 users over 4420\n",
      "Recommended 3000 users over 4420\n",
      "Recommended 4000 users over 4420\n"
     ]
    }
   ],
   "source": [
    "rs = importlib.reload(rs)\n",
    "sim_check = True\n",
    "secondary_sorting=True\n",
    "recommendetions = np.array([])\n",
    "for p in ubr.IX_tgt_playlists.values:\n",
    "    ubr.S = ubr.S.tocsr()\n",
    "    avg_sims = ubr.S[p,:].dot(URM).toarray().ravel()\n",
    "    map = ubr.IX_items[ubr.IX_tgt_items.index.values]\n",
    "    ratings = np.array(avg_sims[map])\n",
    "    map = pd.Series(range(len(ubr.IX_tgt_items)), index= ubr.IX_items[ubr.IX_tgt_items.index.values].index.values ) #contains the index of tgt items in IX_items\n",
    "    top = rs.top5_outside_playlist(ratings, p, train, ubr.IX_tgt_playlists, map, sim_check, secondary_sorting)\n",
    "    recommendetions = np.append(recommendetions, rs.sub_format(top))\n",
    "    if (p % 1000 == 0):\n",
    "        print('Recommended ' + str(p) + ' users over ' + str(ubr.IX_tgt_playlists.values.shape[0]))\n",
    "result= pd.DataFrame({'playlist_id' : ubr.IX_tgt_playlists.index.values, 'track_ids' : recommendetions})"
   ]
  },
  {
   "cell_type": "code",
   "execution_count": 26,
   "metadata": {},
   "outputs": [],
   "source": [
    "def evaluate(results, test, eval_metric='MAP'):\n",
    "    if eval_metric == 'MAP':\n",
    "        APs = results.apply(calculate_AP, axis=1, args=(test,))\n",
    "        res = (APs.sum())/results.shape[0]\n",
    "    return res\n",
    "\n",
    "def calculate_AP(row, test):\n",
    "    p_id = row['playlist_id']\n",
    "    recs = np.fromstring(row['track_ids'], dtype=float, sep=' ')\n",
    "\n",
    "    AP = 0\n",
    "    rel_sum = 0\n",
    "    n_rel_items = min(test[test['playlist_id'] == p_id].shape[0],5)\n",
    "    for i in range(recs.size):\n",
    "        rel = 1 if ((test['playlist_id'] == int(p_id)) & (test['track_id'] == recs[i])).any() else 0\n",
    "        rel_sum += rel\n",
    "        P = rel_sum/(i+1)\n",
    "        AP += (P * rel)/n_rel_items\n",
    "\n",
    "    return AP"
   ]
  },
  {
   "cell_type": "code",
   "execution_count": 27,
   "metadata": {},
   "outputs": [
    {
     "name": "stdout",
     "output_type": "stream",
     "text": [
      "Evaluation completed!\n"
     ]
    },
    {
     "data": {
      "text/plain": [
       "0.0006025641025641029"
      ]
     },
     "execution_count": 27,
     "metadata": {},
     "output_type": "execute_result"
    }
   ],
   "source": [
    "map_eval = evaluate(result, test, 'MAP')\n",
    "print('Evaluation completed!')\n",
    "map_eval"
   ]
  },
  {
   "cell_type": "code",
   "execution_count": null,
   "metadata": {
    "collapsed": true
   },
   "outputs": [],
   "source": []
  }
 ],
 "metadata": {
  "anaconda-cloud": {},
  "kernelspec": {
   "display_name": "Python 3",
   "language": "python",
   "name": "python3"
  },
  "language_info": {
   "codemirror_mode": {
    "name": "ipython",
    "version": 3
   },
   "file_extension": ".py",
   "mimetype": "text/x-python",
   "name": "python",
   "nbconvert_exporter": "python",
   "pygments_lexer": "ipython3",
   "version": "3.6.3"
  }
 },
 "nbformat": 4,
 "nbformat_minor": 1
}
