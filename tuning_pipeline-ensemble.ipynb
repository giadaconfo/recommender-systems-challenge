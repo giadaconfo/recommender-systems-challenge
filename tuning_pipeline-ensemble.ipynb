{
 "cells": [
  {
   "cell_type": "code",
   "execution_count": 19,
   "metadata": {},
   "outputs": [],
   "source": [
    "import importlib\n",
    "rs = importlib.reload(rs)"
   ]
  },
  {
   "cell_type": "code",
   "execution_count": 2,
   "metadata": {
    "collapsed": true
   },
   "outputs": [],
   "source": [
    "import numpy as np\n",
    "import pandas as pd\n",
    "import recsys as rs\n",
    "import json\n",
    "import notipy\n",
    "import random\n",
    "import TopSimilarRecommender as TSR\n",
    "import ItemBasedRecommender as IBR"
   ]
  },
  {
   "cell_type": "code",
   "execution_count": 3,
   "metadata": {
    "collapsed": true
   },
   "outputs": [],
   "source": [
    "train = pd.read_csv('Data/train_final.csv','\\t')\n",
    "tr_info = pd.read_csv('Data/tracks_final.csv','\\t')"
   ]
  },
  {
   "cell_type": "code",
   "execution_count": 4,
   "metadata": {
    "collapsed": true
   },
   "outputs": [],
   "source": [
    "train, test, tgt_tracks, tgt_playlists = rs.split_train_test(train, 10, 20, 5, 2517)"
   ]
  },
  {
   "cell_type": "code",
   "execution_count": 5,
   "metadata": {
    "collapsed": true
   },
   "outputs": [],
   "source": [
    "fit_dict_tsr = {'attributes' : ['artist_id', 'album', 'tags', 'playcount'],\n",
    "                'attributes_to_prune' : ['tags'],\n",
    "                'n_min_attr' : 90,\n",
    "                'idf' : True,\n",
    "                'measure' : 'dot',\n",
    "                'shrinkage' : 0,\n",
    "                'n_el_sim' : 15}\n",
    "\n",
    "fit_dict_ibr = {'idf' : True,\n",
    "                'measure' : 'dot',\n",
    "                'shrinkage' : 0,\n",
    "                'n_el_sim' : 15}"
   ]
  },
  {
   "cell_type": "code",
   "execution_count": 6,
   "metadata": {},
   "outputs": [
    {
     "name": "stdout",
     "output_type": "stream",
     "text": [
      "Fixed dataset\n",
      "Calculated Indices\n",
      "Eliminated low frequency attributes!\n",
      "ICM built\n",
      "ICM regularized with IDF!\n"
     ]
    },
    {
     "name": "stderr",
     "output_type": "stream",
     "text": [
      "/Users/LucaButera/git/rschallenge/recsys.py:336: RuntimeWarning: divide by zero encountered in true_divide\n",
      "  return np.log10(n_items / frequencies)\n",
      "100%|██████████| 100000/100000 [14:47<00:00, 112.69it/s]\n"
     ]
    },
    {
     "name": "stdout",
     "output_type": "stream",
     "text": [
      "Similarity built\n"
     ]
    }
   ],
   "source": [
    "tsr = TSR.TopSimilarRecommender(**fit_dict_tsr)\n",
    "tsr.fit(tr_info, tgt_tracks)\n",
    "notipy.notify('TSR fitted!')"
   ]
  },
  {
   "cell_type": "code",
   "execution_count": 7,
   "metadata": {
    "scrolled": true
   },
   "outputs": [
    {
     "name": "stderr",
     "output_type": "stream",
     "text": [
      "  1%|          | 48/4420 [00:00<00:09, 474.50it/s]"
     ]
    },
    {
     "name": "stdout",
     "output_type": "stream",
     "text": [
      "Calculated Indices\n"
     ]
    },
    {
     "name": "stderr",
     "output_type": "stream",
     "text": [
      "100%|██████████| 4420/4420 [00:09<00:00, 442.08it/s]\n",
      "  0%|          | 40/100000 [00:00<04:15, 391.76it/s]"
     ]
    },
    {
     "name": "stdout",
     "output_type": "stream",
     "text": [
      "Model URM built\n",
      "Model URM regularized with IDF!\n"
     ]
    },
    {
     "name": "stderr",
     "output_type": "stream",
     "text": [
      "100%|██████████| 100000/100000 [13:29<00:00, 123.49it/s]\n"
     ]
    },
    {
     "name": "stdout",
     "output_type": "stream",
     "text": [
      "Similarity built\n"
     ]
    }
   ],
   "source": [
    "ibr = IBR.ItemBasedRecommender(**fit_dict_ibr)\n",
    "ibr.fit(tr_info, train, tgt_tracks)\n",
    "notipy.notify('IBR fitted!')"
   ]
  },
  {
   "cell_type": "code",
   "execution_count": 92,
   "metadata": {},
   "outputs": [],
   "source": [
    "alpha = 0.6\n",
    "S_ensemble = rs.merge_similarities(tsr.S, ibr.S, alpha)"
   ]
  },
  {
   "cell_type": "code",
   "execution_count": 93,
   "metadata": {},
   "outputs": [
    {
     "name": "stderr",
     "output_type": "stream",
     "text": [
      "100%|██████████| 4420/4420 [00:08<00:00, 505.73it/s]\n",
      "  1%|          | 25/4420 [00:00<00:18, 242.07it/s]"
     ]
    },
    {
     "name": "stdout",
     "output_type": "stream",
     "text": [
      "URM built\n"
     ]
    },
    {
     "name": "stderr",
     "output_type": "stream",
     "text": [
      "100%|██████████| 4420/4420 [00:19<00:00, 227.56it/s]\n"
     ]
    }
   ],
   "source": [
    "recommendetions = rs.generic_similarity_based_recommend(S_ensemble, tr_info, tgt_tracks, tgt_playlists, train, secondary_sorting=False)\n",
    "notipy.notify('Recommending completed!')"
   ]
  },
  {
   "cell_type": "code",
   "execution_count": 94,
   "metadata": {
    "collapsed": true
   },
   "outputs": [],
   "source": [
    "map_eval = rs.evaluate(recommendetions, test, 'MAP')\n",
    "notipy.notify('Evaluation completed!')"
   ]
  },
  {
   "cell_type": "code",
   "execution_count": 95,
   "metadata": {
    "collapsed": true
   },
   "outputs": [],
   "source": [
    "run_data = {'recommender_1' : tsr.__class__.__name__,\n",
    "            'recommender_2' : ibr.__class__.__name__,\n",
    "            'fit_parameters_1' : fit_dict_tsr,\n",
    "            'fit_parameters_2' : fit_dict_ibr,\n",
    "            'alpha_ensemble' : alpha,\n",
    "            'evaluation_result' : map_eval}"
   ]
  },
  {
   "cell_type": "code",
   "execution_count": 96,
   "metadata": {
    "collapsed": true
   },
   "outputs": [],
   "source": [
    "with open('runs_data.json', 'a') as fp:\n",
    "    json.dump(run_data, fp, indent=2)\n",
    "    fp.write('\\n')"
   ]
  },
  {
   "cell_type": "code",
   "execution_count": 97,
   "metadata": {},
   "outputs": [
    {
     "data": {
      "text/plain": [
       "0.08471568627450975"
      ]
     },
     "execution_count": 97,
     "metadata": {},
     "output_type": "execute_result"
    }
   ],
   "source": [
    "map_eval"
   ]
  },
  {
   "cell_type": "code",
   "execution_count": null,
   "metadata": {
    "collapsed": true
   },
   "outputs": [],
   "source": []
  }
 ],
 "metadata": {
  "kernelspec": {
   "display_name": "Python 3",
   "language": "python",
   "name": "python3"
  },
  "language_info": {
   "codemirror_mode": {
    "name": "ipython",
    "version": 3
   },
   "file_extension": ".py",
   "mimetype": "text/x-python",
   "name": "python",
   "nbconvert_exporter": "python",
   "pygments_lexer": "ipython3",
   "version": "3.6.3"
  }
 },
 "nbformat": 4,
 "nbformat_minor": 2
}
