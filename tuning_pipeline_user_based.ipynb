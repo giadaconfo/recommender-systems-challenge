{
 "cells": [
  {
   "cell_type": "code",
   "execution_count": 1,
   "metadata": {
    "collapsed": true
   },
   "outputs": [],
   "source": [
    "import numpy as np\n",
    "import pandas as pd\n",
    "import recsys as rs\n",
    "import json\n",
    "import notipy\n",
    "import random\n",
    "import UserBasedRecommender as UBR"
   ]
  },
  {
   "cell_type": "code",
   "execution_count": 2,
   "metadata": {
    "collapsed": true
   },
   "outputs": [],
   "source": [
    "train = pd.read_csv('Data/train_final.csv','\\t')\n",
    "tracks = pd.read_csv('Data/tracks_final.csv','\\t')"
   ]
  },
  {
   "cell_type": "code",
   "execution_count": 3,
   "metadata": {
    "collapsed": true
   },
   "outputs": [],
   "source": [
    "train, test, tgt_tracks, tgt_playlists = rs.split_train_test(train, 10, 20, 5, 2517)"
   ]
  },
  {
   "cell_type": "code",
   "execution_count": 4,
   "metadata": {
    "collapsed": true
   },
   "outputs": [],
   "source": [
    "fit_dict = {'idf' : True,\n",
    "            'measure' : 'imp_cos',\n",
    "            'shrinkage' : 20,\n",
    "            'n_el_sim' : 50}"
   ]
  },
  {
   "cell_type": "code",
   "execution_count": 5,
   "metadata": {
    "collapsed": true
   },
   "outputs": [],
   "source": [
    "rec = UBR.UserBasedRecommender(**fit_dict)"
   ]
  },
  {
   "cell_type": "code",
   "execution_count": 6,
   "metadata": {},
   "outputs": [
    {
     "name": "stderr",
     "output_type": "stream",
     "text": [
      "  1%|▏         | 63/4420 [00:00<00:06, 626.27it/s]"
     ]
    },
    {
     "name": "stdout",
     "output_type": "stream",
     "text": [
      "Calculated Indices\n"
     ]
    },
    {
     "name": "stderr",
     "output_type": "stream",
     "text": [
      "100%|██████████| 4420/4420 [00:08<00:00, 497.38it/s]\n",
      "  0%|          | 18/4420 [00:00<00:25, 171.30it/s]"
     ]
    },
    {
     "name": "stdout",
     "output_type": "stream",
     "text": [
      "Model URM built\n",
      "Model URM regularized with IDF!\n"
     ]
    },
    {
     "name": "stderr",
     "output_type": "stream",
     "text": [
      "100%|██████████| 4420/4420 [00:26<00:00, 166.15it/s]\n"
     ]
    },
    {
     "name": "stdout",
     "output_type": "stream",
     "text": [
      "Similarity built\n",
      "Model fitted!\n"
     ]
    }
   ],
   "source": [
    "rec.fit(tracks, train, tgt_playlists)\n",
    "notipy.notify('Model fitted!')\n",
    "print('Model fitted!')"
   ]
  },
  {
   "cell_type": "code",
   "execution_count": 7,
   "metadata": {},
   "outputs": [
    {
     "name": "stderr",
     "output_type": "stream",
     "text": [
      "100%|██████████| 4420/4420 [00:14<00:00, 298.15it/s]\n"
     ]
    },
    {
     "name": "stdout",
     "output_type": "stream",
     "text": [
      "URM built\n",
      "Recommending completed!\n"
     ]
    }
   ],
   "source": [
    "recommendetions = rec.recommend(tgt_tracks, train, sim_check=False, secondary_sorting=False)\n",
    "notipy.notify('Recommending completed!')\n",
    "print('Recommending completed!')"
   ]
  },
  {
   "cell_type": "code",
   "execution_count": 8,
   "metadata": {},
   "outputs": [
    {
     "name": "stdout",
     "output_type": "stream",
     "text": [
      "Evaluation completed!\n"
     ]
    }
   ],
   "source": [
    "map_eval = rs.evaluate(recommendetions, test, 'MAP')\n",
    "notipy.notify('Evaluation completed!')\n",
    "print('Evaluation completed!')"
   ]
  },
  {
   "cell_type": "code",
   "execution_count": 9,
   "metadata": {
    "collapsed": true
   },
   "outputs": [],
   "source": [
    "run_data = {'recommender_type' : rec.__class__.__name__,\n",
    "            'fit_parameters' : {'idf' : fit_dict['idf'],\n",
    "                                'measure' : fit_dict['measure'],\n",
    "                                'shrinkage' : fit_dict['shrinkage'],\n",
    "                                'n_el_sim' : fit_dict['n_el_sim']},\n",
    "            'evaluation_result' : map_eval}"
   ]
  },
  {
   "cell_type": "code",
   "execution_count": 10,
   "metadata": {},
   "outputs": [
    {
     "name": "stdout",
     "output_type": "stream",
     "text": [
      "Run data saved!\n"
     ]
    }
   ],
   "source": [
    "with open('runs_data.json', 'a') as fp:\n",
    "    json.dump(run_data, fp, indent=2)\n",
    "    fp.write('\\n')\n",
    "notipy.notify('Run data saved!')\n",
    "print('Run data saved!')"
   ]
  },
  {
   "cell_type": "code",
   "execution_count": 11,
   "metadata": {},
   "outputs": [
    {
     "data": {
      "text/plain": [
       "0.028837104072398194"
      ]
     },
     "execution_count": 11,
     "metadata": {},
     "output_type": "execute_result"
    }
   ],
   "source": [
    "map_eval"
   ]
  },
  {
   "cell_type": "code",
   "execution_count": null,
   "metadata": {
    "collapsed": true
   },
   "outputs": [],
   "source": []
  }
 ],
 "metadata": {
  "kernelspec": {
   "display_name": "Python 3",
   "language": "python",
   "name": "python3"
  },
  "language_info": {
   "codemirror_mode": {
    "name": "ipython",
    "version": 3
   },
   "file_extension": ".py",
   "mimetype": "text/x-python",
   "name": "python",
   "nbconvert_exporter": "python",
   "pygments_lexer": "ipython3",
   "version": "3.6.3"
  }
 },
 "nbformat": 4,
 "nbformat_minor": 2
}
